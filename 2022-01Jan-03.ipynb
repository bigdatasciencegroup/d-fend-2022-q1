{
 "cells": [
  {
   "cell_type": "markdown",
   "metadata": {},
   "source": [
    "# Agenda\n",
    "\n",
    "1. Jupyter intro\n",
    "2. Data structures\n",
    "    - Basic data structures -- in depth\n",
    "    - Complex data structures\n",
    "3. Functions\n",
    "    - Parameters\n",
    "    - Scoping\n",
    "    - Function objects\n",
    "    - Inner functions\n",
    "    - Storing functions in data structures\n",
    "4. Functional programming\n",
    "    - Comprehensions (list, set, dict, nested)\n",
    "    - Functions as arguments\n",
    "    - `lambda`, `map`, `filter`, `reduce`\n",
    "5. Modules\n",
    "6. Objects\n",
    "    - Classes\n",
    "    - Methods\n",
    "    - Attributes (ICPO) \n",
    "    - Inheritance\n",
    "    - Methods vs. functions\n",
    "    - Magic methods\n",
    "    - Properties\n",
    "    - Descriptors\n",
    "7. Iterators + generators\n",
    "8. Decorators\n",
    "9. Concurrency (threading + multiprocessing)"
   ]
  },
  {
   "cell_type": "code",
   "execution_count": 1,
   "metadata": {},
   "outputs": [],
   "source": [
    "# REPL -- read, eval, print loop"
   ]
  },
  {
   "cell_type": "code",
   "execution_count": 2,
   "metadata": {},
   "outputs": [
    {
     "name": "stdout",
     "output_type": "stream",
     "text": [
      "abcdefgh\n"
     ]
    }
   ],
   "source": [
    "x = 'abcd'\n",
    "y = 'efgh'\n",
    "\n",
    "print(x + y)"
   ]
  },
  {
   "cell_type": "code",
   "execution_count": 3,
   "metadata": {
    "scrolled": true
   },
   "outputs": [
    {
     "name": "stdout",
     "output_type": "stream",
     "text": [
      "ABCD\n"
     ]
    }
   ],
   "source": [
    "print(x.upper())"
   ]
  },
  {
   "cell_type": "markdown",
   "metadata": {},
   "source": [
    "# Jupyter modes\n",
    "\n",
    "- Edit mode - green outline, press ENTER or click inside. Typing is put into the cell.\n",
    "- Command mode - blue outline, press ESC or click outside. Typing is used as Jupyter commands."
   ]
  },
  {
   "cell_type": "code",
   "execution_count": 4,
   "metadata": {},
   "outputs": [
    {
     "data": {
      "text/plain": [
       "60"
      ]
     },
     "execution_count": 4,
     "metadata": {},
     "output_type": "execute_result"
    }
   ],
   "source": [
    "10 + 10  \n",
    "20 + 20\n",
    "30 + 30  # last line + expression (returns a value)"
   ]
  },
  {
   "cell_type": "code",
   "execution_count": 5,
   "metadata": {},
   "outputs": [
    {
     "data": {
      "text/plain": [
       "'abcd'"
      ]
     },
     "execution_count": 5,
     "metadata": {},
     "output_type": "execute_result"
    }
   ],
   "source": [
    "x"
   ]
  },
  {
   "cell_type": "code",
   "execution_count": 6,
   "metadata": {},
   "outputs": [
    {
     "data": {
      "text/plain": [
       "'ABCD'"
      ]
     },
     "execution_count": 6,
     "metadata": {},
     "output_type": "execute_result"
    }
   ],
   "source": [
    "x.upper()"
   ]
  },
  {
   "cell_type": "markdown",
   "metadata": {},
   "source": [
    "# Jupyter modes\n",
    "\n",
    "- Edit mode - green outline, press ENTER or click inside. Typing is put into the cell.\n",
    "- Command mode - blue outline, press ESC or click outside. Typing is used as Jupyter commands.\n",
    "\n",
    "shift-ENTER executes the cell"
   ]
  },
  {
   "cell_type": "markdown",
   "metadata": {},
   "source": [
    "# Cell types\n",
    "\n",
    "- Code -- command mode `y`\n",
    "- Markdown -- command mode `m`"
   ]
  },
  {
   "cell_type": "code",
   "execution_count": 7,
   "metadata": {},
   "outputs": [
    {
     "name": "stdout",
     "output_type": "stream",
     "text": [
      "a\n",
      "b\n",
      "c\n"
     ]
    }
   ],
   "source": [
    "print('a')\n",
    "print('b')\n",
    "print('c')"
   ]
  },
  {
   "cell_type": "markdown",
   "metadata": {},
   "source": [
    "# Data structures"
   ]
  },
  {
   "cell_type": "code",
   "execution_count": 8,
   "metadata": {},
   "outputs": [
    {
     "data": {
      "text/plain": [
       "100"
      ]
     },
     "execution_count": 8,
     "metadata": {},
     "output_type": "execute_result"
    }
   ],
   "source": [
    "x = 100\n",
    "y = x\n",
    "\n",
    "x = 200\n",
    "y"
   ]
  },
  {
   "cell_type": "markdown",
   "metadata": {},
   "source": [
    "# Link to Python tutor with list\n",
    "\n",
    "https://pythontutor.com/live.html#code=x%20%3D%20%5B10,%2020,%2030%5D%0Ay%20%3D%20x%0A%0Ax%5B0%5D%20%3D%20'!'%0A&cumulative=false&curInstr=3&heapPrimitives=true&mode=display&origin=opt-live.js&py=3&rawInputLstJSON=%5B%5D&textReferences=false\n",
    "\n"
   ]
  },
  {
   "cell_type": "code",
   "execution_count": 9,
   "metadata": {},
   "outputs": [],
   "source": [
    "x = None\n",
    "y = None\n",
    "\n"
   ]
  },
  {
   "cell_type": "code",
   "execution_count": 10,
   "metadata": {},
   "outputs": [
    {
     "data": {
      "text/plain": [
       "NoneType"
      ]
     },
     "execution_count": 10,
     "metadata": {},
     "output_type": "execute_result"
    }
   ],
   "source": [
    "type(None)"
   ]
  },
  {
   "cell_type": "code",
   "execution_count": 11,
   "metadata": {},
   "outputs": [],
   "source": [
    "z = type(None)()"
   ]
  },
  {
   "cell_type": "code",
   "execution_count": 12,
   "metadata": {},
   "outputs": [
    {
     "name": "stdout",
     "output_type": "stream",
     "text": [
      "None\n"
     ]
    }
   ],
   "source": [
    "print(z)"
   ]
  },
  {
   "cell_type": "code",
   "execution_count": 13,
   "metadata": {},
   "outputs": [
    {
     "data": {
      "text/plain": [
       "NoneType"
      ]
     },
     "execution_count": 13,
     "metadata": {},
     "output_type": "execute_result"
    }
   ],
   "source": [
    "type(z)"
   ]
  },
  {
   "cell_type": "code",
   "execution_count": 15,
   "metadata": {},
   "outputs": [
    {
     "name": "stdout",
     "output_type": "stream",
     "text": [
      "yes, it is None!\n"
     ]
    }
   ],
   "source": [
    "if x == None:  # not Pythonic\n",
    "    print('yes, it is None!')"
   ]
  },
  {
   "cell_type": "code",
   "execution_count": 16,
   "metadata": {},
   "outputs": [
    {
     "data": {
      "text/plain": [
       "4424744960"
      ]
     },
     "execution_count": 16,
     "metadata": {},
     "output_type": "execute_result"
    }
   ],
   "source": [
    "id(None)"
   ]
  },
  {
   "cell_type": "code",
   "execution_count": 17,
   "metadata": {},
   "outputs": [
    {
     "data": {
      "text/plain": [
       "4424744960"
      ]
     },
     "execution_count": 17,
     "metadata": {},
     "output_type": "execute_result"
    }
   ],
   "source": [
    "id(x)"
   ]
  },
  {
   "cell_type": "code",
   "execution_count": 18,
   "metadata": {},
   "outputs": [
    {
     "data": {
      "text/plain": [
       "4424744960"
      ]
     },
     "execution_count": 18,
     "metadata": {},
     "output_type": "execute_result"
    }
   ],
   "source": [
    "id(y)"
   ]
  },
  {
   "cell_type": "code",
   "execution_count": 19,
   "metadata": {},
   "outputs": [
    {
     "data": {
      "text/plain": [
       "4424744960"
      ]
     },
     "execution_count": 19,
     "metadata": {},
     "output_type": "execute_result"
    }
   ],
   "source": [
    "id(z)"
   ]
  },
  {
   "cell_type": "code",
   "execution_count": 20,
   "metadata": {},
   "outputs": [
    {
     "data": {
      "text/plain": [
       "True"
      ]
     },
     "execution_count": 20,
     "metadata": {},
     "output_type": "execute_result"
    }
   ],
   "source": [
    "id(x) == id(None)"
   ]
  },
  {
   "cell_type": "code",
   "execution_count": 22,
   "metadata": {},
   "outputs": [
    {
     "name": "stdout",
     "output_type": "stream",
     "text": [
      "Yes, x is None!\n"
     ]
    }
   ],
   "source": [
    "# to compare ids, we use \"is\"\n",
    "# 'x is None' == 'id(x) == id(None)'\n",
    "\n",
    "if x is None:\n",
    "    print('Yes, x is None!')"
   ]
  },
  {
   "cell_type": "code",
   "execution_count": 23,
   "metadata": {},
   "outputs": [
    {
     "data": {
      "text/plain": [
       "True"
      ]
     },
     "execution_count": 23,
     "metadata": {},
     "output_type": "execute_result"
    }
   ],
   "source": [
    "x = 100\n",
    "y = 100\n",
    "\n",
    "x == y"
   ]
  },
  {
   "cell_type": "code",
   "execution_count": 24,
   "metadata": {},
   "outputs": [
    {
     "data": {
      "text/plain": [
       "True"
      ]
     },
     "execution_count": 24,
     "metadata": {},
     "output_type": "execute_result"
    }
   ],
   "source": [
    "x is y"
   ]
  },
  {
   "cell_type": "code",
   "execution_count": 25,
   "metadata": {},
   "outputs": [
    {
     "data": {
      "text/plain": [
       "True"
      ]
     },
     "execution_count": 25,
     "metadata": {},
     "output_type": "execute_result"
    }
   ],
   "source": [
    "x = 1000\n",
    "y = 1000\n",
    "\n",
    "x == y"
   ]
  },
  {
   "cell_type": "code",
   "execution_count": 26,
   "metadata": {},
   "outputs": [
    {
     "data": {
      "text/plain": [
       "False"
      ]
     },
     "execution_count": 26,
     "metadata": {},
     "output_type": "execute_result"
    }
   ],
   "source": [
    "x is y"
   ]
  },
  {
   "cell_type": "code",
   "execution_count": null,
   "metadata": {},
   "outputs": [],
   "source": [
    "# -5 - 256"
   ]
  },
  {
   "cell_type": "code",
   "execution_count": 27,
   "metadata": {},
   "outputs": [
    {
     "name": "stdout",
     "output_type": "stream",
     "text": [
      "Yes, it is True!\n"
     ]
    }
   ],
   "source": [
    "x = True\n",
    "\n",
    "if x is True:\n",
    "    print('Yes, it is True!')"
   ]
  },
  {
   "cell_type": "code",
   "execution_count": null,
   "metadata": {},
   "outputs": [],
   "source": [
    "x = True\n",
    "\n",
    "if x:\n",
    "    print('Yes, it is True!')"
   ]
  },
  {
   "cell_type": "code",
   "execution_count": 28,
   "metadata": {},
   "outputs": [
    {
     "name": "stdout",
     "output_type": "stream",
     "text": [
      "Yes, it is False!\n"
     ]
    }
   ],
   "source": [
    "x = False\n",
    "\n",
    "if not x:\n",
    "    print('Yes, it is False!')"
   ]
  },
  {
   "cell_type": "code",
   "execution_count": 30,
   "metadata": {},
   "outputs": [
    {
     "name": "stdout",
     "output_type": "stream",
     "text": [
      "Yes, it is True-ish!\n"
     ]
    }
   ],
   "source": [
    "x = 10\n",
    "\n",
    "if x:\n",
    "    print('Yes, it is True-ish!')"
   ]
  },
  {
   "cell_type": "markdown",
   "metadata": {},
   "source": [
    "# Boolean context\n",
    "\n",
    "Everything in Python is `True` in a boolean context, except:\n",
    "\n",
    "- `False`\n",
    "- `None`\n",
    "- 0\n",
    "- Everything empty\n"
   ]
  },
  {
   "cell_type": "code",
   "execution_count": 31,
   "metadata": {},
   "outputs": [
    {
     "data": {
      "text/plain": [
       "False"
      ]
     },
     "execution_count": 31,
     "metadata": {},
     "output_type": "execute_result"
    }
   ],
   "source": [
    "10 == True"
   ]
  },
  {
   "cell_type": "code",
   "execution_count": 32,
   "metadata": {},
   "outputs": [
    {
     "data": {
      "text/plain": [
       "True"
      ]
     },
     "execution_count": 32,
     "metadata": {},
     "output_type": "execute_result"
    }
   ],
   "source": [
    "bool(10) == True"
   ]
  },
  {
   "cell_type": "code",
   "execution_count": 33,
   "metadata": {},
   "outputs": [
    {
     "name": "stderr",
     "output_type": "stream",
     "text": [
      "<>:1: SyntaxWarning: \"is\" with a literal. Did you mean \"==\"?\n",
      "<>:1: SyntaxWarning: \"is\" with a literal. Did you mean \"==\"?\n",
      "/var/folders/rr/0mnyyv811fs5vyp22gf4fxk00000gn/T/ipykernel_34118/3899848343.py:1: SyntaxWarning: \"is\" with a literal. Did you mean \"==\"?\n",
      "  10 is True\n"
     ]
    },
    {
     "data": {
      "text/plain": [
       "False"
      ]
     },
     "execution_count": 33,
     "metadata": {},
     "output_type": "execute_result"
    }
   ],
   "source": [
    "10 is True"
   ]
  },
  {
   "cell_type": "code",
   "execution_count": 34,
   "metadata": {},
   "outputs": [
    {
     "ename": "SyntaxError",
     "evalue": "unterminated string literal (detected at line 1) (531326978.py, line 1)",
     "output_type": "error",
     "traceback": [
      "\u001b[0;36m  File \u001b[0;32m\"/var/folders/rr/0mnyyv811fs5vyp22gf4fxk00000gn/T/ipykernel_34118/531326978.py\"\u001b[0;36m, line \u001b[0;32m1\u001b[0m\n\u001b[0;31m    s = 'abcde\u001b[0m\n\u001b[0m        ^\u001b[0m\n\u001b[0;31mSyntaxError\u001b[0m\u001b[0;31m:\u001b[0m unterminated string literal (detected at line 1)\n"
     ]
    }
   ],
   "source": [
    "s = 'abcde"
   ]
  },
  {
   "cell_type": "code",
   "execution_count": 35,
   "metadata": {},
   "outputs": [
    {
     "ename": "NameError",
     "evalue": "name 'true' is not defined",
     "output_type": "error",
     "traceback": [
      "\u001b[0;31m---------------------------------------------------------------------------\u001b[0m",
      "\u001b[0;31mNameError\u001b[0m                                 Traceback (most recent call last)",
      "\u001b[0;32m/var/folders/rr/0mnyyv811fs5vyp22gf4fxk00000gn/T/ipykernel_34118/3333814890.py\u001b[0m in \u001b[0;36m<module>\u001b[0;34m\u001b[0m\n\u001b[0;32m----> 1\u001b[0;31m \u001b[0mx\u001b[0m \u001b[0;34m=\u001b[0m \u001b[0mtrue\u001b[0m\u001b[0;34m\u001b[0m\u001b[0;34m\u001b[0m\u001b[0m\n\u001b[0m",
      "\u001b[0;31mNameError\u001b[0m: name 'true' is not defined"
     ]
    }
   ],
   "source": [
    "x = true"
   ]
  },
  {
   "cell_type": "code",
   "execution_count": 36,
   "metadata": {},
   "outputs": [
    {
     "name": "stdout",
     "output_type": "stream",
     "text": [
      "None\n"
     ]
    }
   ],
   "source": [
    "mylist = [10, 20, 30]\n",
    "\n",
    "# list.append returns None... so mylist is overwritten with None!\n",
    "mylist = mylist.append(40)\n",
    "\n",
    "print(mylist)"
   ]
  },
  {
   "cell_type": "code",
   "execution_count": 37,
   "metadata": {},
   "outputs": [
    {
     "data": {
      "text/plain": [
       "[10, 20, 30, 40]"
      ]
     },
     "execution_count": 37,
     "metadata": {},
     "output_type": "execute_result"
    }
   ],
   "source": [
    "mylist = [10, 20, 30]\n",
    "\n",
    "mylist.append(40)\n",
    "\n",
    "mylist"
   ]
  },
  {
   "cell_type": "markdown",
   "metadata": {},
   "source": [
    "# Numbers\n",
    "\n",
    "`int`"
   ]
  },
  {
   "cell_type": "code",
   "execution_count": 38,
   "metadata": {},
   "outputs": [
    {
     "data": {
      "text/plain": [
       "24"
      ]
     },
     "execution_count": 38,
     "metadata": {},
     "output_type": "execute_result"
    }
   ],
   "source": [
    "import sys\n",
    "\n",
    "x = 0\n",
    "sys.getsizeof(x)"
   ]
  },
  {
   "cell_type": "code",
   "execution_count": 39,
   "metadata": {},
   "outputs": [
    {
     "data": {
      "text/plain": [
       "28"
      ]
     },
     "execution_count": 39,
     "metadata": {},
     "output_type": "execute_result"
    }
   ],
   "source": [
    "x = 1\n",
    "sys.getsizeof(x)  # how many bytes!"
   ]
  },
  {
   "cell_type": "code",
   "execution_count": 40,
   "metadata": {},
   "outputs": [
    {
     "data": {
      "text/plain": [
       "28"
      ]
     },
     "execution_count": 40,
     "metadata": {},
     "output_type": "execute_result"
    }
   ],
   "source": [
    "x = 1_000_000_000\n",
    "sys.getsizeof(x)"
   ]
  },
  {
   "cell_type": "code",
   "execution_count": 41,
   "metadata": {},
   "outputs": [],
   "source": [
    "x = x ** 10000"
   ]
  },
  {
   "cell_type": "code",
   "execution_count": 42,
   "metadata": {},
   "outputs": [
    {
     "data": {
      "text/plain": [
       "39888"
      ]
     },
     "execution_count": 42,
     "metadata": {},
     "output_type": "execute_result"
    }
   ],
   "source": [
    "sys.getsizeof(x)"
   ]
  },
  {
   "cell_type": "code",
   "execution_count": 45,
   "metadata": {},
   "outputs": [
    {
     "data": {
      "text/plain": [
       "398656"
      ]
     },
     "execution_count": 45,
     "metadata": {},
     "output_type": "execute_result"
    }
   ],
   "source": [
    "x = x ** 10\n",
    "sys.getsizeof(x)"
   ]
  },
  {
   "cell_type": "code",
   "execution_count": 47,
   "metadata": {},
   "outputs": [
    {
     "data": {
      "text/plain": [
       "12345"
      ]
     },
     "execution_count": 47,
     "metadata": {},
     "output_type": "execute_result"
    }
   ],
   "source": [
    "x = 1_2_3_4_5  # starting with Python 3.7\n",
    "x"
   ]
  },
  {
   "cell_type": "code",
   "execution_count": 48,
   "metadata": {},
   "outputs": [
    {
     "data": {
      "text/plain": [
       "12345"
      ]
     },
     "execution_count": 48,
     "metadata": {},
     "output_type": "execute_result"
    }
   ],
   "source": [
    "int('12345')"
   ]
  },
  {
   "cell_type": "code",
   "execution_count": 50,
   "metadata": {},
   "outputs": [
    {
     "data": {
      "text/plain": [
       "74565"
      ]
     },
     "execution_count": 50,
     "metadata": {},
     "output_type": "execute_result"
    }
   ],
   "source": [
    "# 2nd optional argument is the base\n",
    "int('12345', 16)"
   ]
  },
  {
   "cell_type": "code",
   "execution_count": 51,
   "metadata": {},
   "outputs": [
    {
     "data": {
      "text/plain": [
       "74565"
      ]
     },
     "execution_count": 51,
     "metadata": {},
     "output_type": "execute_result"
    }
   ],
   "source": [
    "0x12345"
   ]
  },
  {
   "cell_type": "code",
   "execution_count": 52,
   "metadata": {},
   "outputs": [
    {
     "data": {
      "text/plain": [
       "170"
      ]
     },
     "execution_count": 52,
     "metadata": {},
     "output_type": "execute_result"
    }
   ],
   "source": [
    "0b10101010"
   ]
  },
  {
   "cell_type": "code",
   "execution_count": 54,
   "metadata": {},
   "outputs": [
    {
     "data": {
      "text/plain": [
       "5349"
      ]
     },
     "execution_count": 54,
     "metadata": {},
     "output_type": "execute_result"
    }
   ],
   "source": [
    "0o12345"
   ]
  },
  {
   "cell_type": "code",
   "execution_count": 55,
   "metadata": {},
   "outputs": [
    {
     "data": {
      "text/plain": [
       "'0x3039'"
      ]
     },
     "execution_count": 55,
     "metadata": {},
     "output_type": "execute_result"
    }
   ],
   "source": [
    "hex(12345)"
   ]
  },
  {
   "cell_type": "code",
   "execution_count": 56,
   "metadata": {},
   "outputs": [
    {
     "data": {
      "text/plain": [
       "'0o30071'"
      ]
     },
     "execution_count": 56,
     "metadata": {},
     "output_type": "execute_result"
    }
   ],
   "source": [
    "oct(12345)"
   ]
  },
  {
   "cell_type": "code",
   "execution_count": 57,
   "metadata": {},
   "outputs": [
    {
     "data": {
      "text/plain": [
       "'0b11000000111001'"
      ]
     },
     "execution_count": 57,
     "metadata": {},
     "output_type": "execute_result"
    }
   ],
   "source": [
    "bin(12345)"
   ]
  },
  {
   "cell_type": "code",
   "execution_count": 58,
   "metadata": {},
   "outputs": [],
   "source": [
    "import bitarray"
   ]
  },
  {
   "cell_type": "code",
   "execution_count": 59,
   "metadata": {
    "collapsed": true
   },
   "outputs": [
    {
     "name": "stdout",
     "output_type": "stream",
     "text": [
      "Help on package bitarray:\n",
      "\n",
      "NAME\n",
      "    bitarray\n",
      "\n",
      "DESCRIPTION\n",
      "    This package defines an object type which can efficiently represent\n",
      "    a bitarray.  Bitarrays are sequence types and behave very much like lists.\n",
      "    \n",
      "    Please find a description of this package at:\n",
      "    \n",
      "        https://github.com/ilanschnell/bitarray\n",
      "    \n",
      "    Author: Ilan Schnell\n",
      "\n",
      "PACKAGE CONTENTS\n",
      "    _bitarray\n",
      "    _util\n",
      "    test_bitarray\n",
      "    test_util\n",
      "    util\n",
      "\n",
      "CLASSES\n",
      "    builtins.object\n",
      "        bitarray\n",
      "            frozenbitarray\n",
      "        decodetree\n",
      "    \n",
      "    class bitarray(builtins.object)\n",
      "     |  bitarray(initializer=0, /, endian='big', buffer=None) -> bitarray\n",
      "     |  \n",
      "     |  Return a new bitarray object whose items are bits initialized from\n",
      "     |  the optional initial object, and endianness.\n",
      "     |  The initializer may be of the following types:\n",
      "     |  \n",
      "     |  `int`: Create a bitarray of given integer length.  The initial values are\n",
      "     |  uninitialized.\n",
      "     |  \n",
      "     |  `str`: Create bitarray from a string of `0` and `1`.\n",
      "     |  \n",
      "     |  `iterable`: Create bitarray from iterable or sequence or integers 0 or 1.\n",
      "     |  \n",
      "     |  Optional keyword arguments:\n",
      "     |  \n",
      "     |  `endian`: Specifies the bit endianness of the created bitarray object.\n",
      "     |  Allowed values are `big` and `little` (the default is `big`).\n",
      "     |  The bit endianness effects the buffer representation of the bitarray.\n",
      "     |  \n",
      "     |  `buffer`: Any object which exposes a buffer.  When provided, `initializer`\n",
      "     |  cannot be present (or has to be `None`).  The imported buffer may be\n",
      "     |  readonly or writable, depending on the object type.\n",
      "     |  \n",
      "     |  Methods defined here:\n",
      "     |  \n",
      "     |  __add__(self, value, /)\n",
      "     |      Return self+value.\n",
      "     |  \n",
      "     |  __and__(self, value, /)\n",
      "     |      Return self&value.\n",
      "     |  \n",
      "     |  __contains__(self, key, /)\n",
      "     |      Return key in self.\n",
      "     |  \n",
      "     |  __copy__(...)\n",
      "     |      copy() -> bitarray\n",
      "     |      \n",
      "     |      Return a copy of the bitarray.\n",
      "     |  \n",
      "     |  __deepcopy__(...)\n",
      "     |      copy() -> bitarray\n",
      "     |      \n",
      "     |      Return a copy of the bitarray.\n",
      "     |  \n",
      "     |  __delitem__(self, key, /)\n",
      "     |      Delete self[key].\n",
      "     |  \n",
      "     |  __eq__(self, value, /)\n",
      "     |      Return self==value.\n",
      "     |  \n",
      "     |  __ge__(self, value, /)\n",
      "     |      Return self>=value.\n",
      "     |  \n",
      "     |  __getattribute__(self, name, /)\n",
      "     |      Return getattr(self, name).\n",
      "     |  \n",
      "     |  __getitem__(self, key, /)\n",
      "     |      Return self[key].\n",
      "     |  \n",
      "     |  __gt__(self, value, /)\n",
      "     |      Return self>value.\n",
      "     |  \n",
      "     |  __iadd__(self, value, /)\n",
      "     |      Implement self+=value.\n",
      "     |  \n",
      "     |  __iand__(self, value, /)\n",
      "     |      Return self&=value.\n",
      "     |  \n",
      "     |  __ilshift__(self, value, /)\n",
      "     |      Return self<<=value.\n",
      "     |  \n",
      "     |  __imul__(self, value, /)\n",
      "     |      Implement self*=value.\n",
      "     |  \n",
      "     |  __invert__(self, /)\n",
      "     |      ~self\n",
      "     |  \n",
      "     |  __ior__(self, value, /)\n",
      "     |      Return self|=value.\n",
      "     |  \n",
      "     |  __irshift__(self, value, /)\n",
      "     |      Return self>>=value.\n",
      "     |  \n",
      "     |  __iter__(self, /)\n",
      "     |      Implement iter(self).\n",
      "     |  \n",
      "     |  __ixor__(self, value, /)\n",
      "     |      Return self^=value.\n",
      "     |  \n",
      "     |  __le__(self, value, /)\n",
      "     |      Return self<=value.\n",
      "     |  \n",
      "     |  __len__(self, /)\n",
      "     |      Return len(self).\n",
      "     |  \n",
      "     |  __lshift__(self, value, /)\n",
      "     |      Return self<<value.\n",
      "     |  \n",
      "     |  __lt__(self, value, /)\n",
      "     |      Return self<value.\n",
      "     |  \n",
      "     |  __mul__(self, value, /)\n",
      "     |      Return self*value.\n",
      "     |  \n",
      "     |  __ne__(self, value, /)\n",
      "     |      Return self!=value.\n",
      "     |  \n",
      "     |  __or__(self, value, /)\n",
      "     |      Return self|value.\n",
      "     |  \n",
      "     |  __rand__(self, value, /)\n",
      "     |      Return value&self.\n",
      "     |  \n",
      "     |  __reduce__(...)\n",
      "     |      state information for pickling\n",
      "     |  \n",
      "     |  __repr__(self, /)\n",
      "     |      Return repr(self).\n",
      "     |  \n",
      "     |  __rlshift__(self, value, /)\n",
      "     |      Return value<<self.\n",
      "     |  \n",
      "     |  __rmul__(self, value, /)\n",
      "     |      Return value*self.\n",
      "     |  \n",
      "     |  __ror__(self, value, /)\n",
      "     |      Return value|self.\n",
      "     |  \n",
      "     |  __rrshift__(self, value, /)\n",
      "     |      Return value>>self.\n",
      "     |  \n",
      "     |  __rshift__(self, value, /)\n",
      "     |      Return self>>value.\n",
      "     |  \n",
      "     |  __rxor__(self, value, /)\n",
      "     |      Return value^self.\n",
      "     |  \n",
      "     |  __setitem__(self, key, value, /)\n",
      "     |      Set self[key] to value.\n",
      "     |  \n",
      "     |  __sizeof__(...)\n",
      "     |      Return the size of the bitarray in memory, in bytes.\n",
      "     |  \n",
      "     |  __xor__(self, value, /)\n",
      "     |      Return self^value.\n",
      "     |  \n",
      "     |  all(...)\n",
      "     |      all() -> bool\n",
      "     |      \n",
      "     |      Return True when all bits in the array are True.\n",
      "     |      Note that `a.all()` is faster than `all(a)`.\n",
      "     |  \n",
      "     |  any(...)\n",
      "     |      any() -> bool\n",
      "     |      \n",
      "     |      Return True when any bit in the array is True.\n",
      "     |      Note that `a.any()` is faster than `any(a)`.\n",
      "     |  \n",
      "     |  append(...)\n",
      "     |      append(item, /)\n",
      "     |      \n",
      "     |      Append `item` to the end of the bitarray.\n",
      "     |  \n",
      "     |  buffer_info(...)\n",
      "     |      buffer_info() -> tuple\n",
      "     |      \n",
      "     |      Return a tuple containing:\n",
      "     |      \n",
      "     |      0. memory address of buffer\n",
      "     |      1. buffer size (in bytes)\n",
      "     |      2. bit endianness as a string\n",
      "     |      3. number of unused padding bits\n",
      "     |      4. allocated memory for the buffer (in bytes)\n",
      "     |      5. memory is read-only\n",
      "     |      6. buffer is imported\n",
      "     |      7. number of buffer exports\n",
      "     |  \n",
      "     |  bytereverse(...)\n",
      "     |      bytereverse(start=0, stop=<end of buffer>, /)\n",
      "     |      \n",
      "     |      Reverse the bit order for the bytes in range(start, stop) in-place.\n",
      "     |      The start and stop indices are given in terms of bytes (not bits).\n",
      "     |      By default, all bytes in the buffer are reversed.\n",
      "     |      Note: This method only changes the buffer; it does not change the\n",
      "     |      endianness of the bitarray object.\n",
      "     |  \n",
      "     |  clear(...)\n",
      "     |      clear()\n",
      "     |      \n",
      "     |      Remove all items from the bitarray.\n",
      "     |  \n",
      "     |  copy(...)\n",
      "     |      copy() -> bitarray\n",
      "     |      \n",
      "     |      Return a copy of the bitarray.\n",
      "     |  \n",
      "     |  count(...)\n",
      "     |      count(value=1, start=0, stop=<end of array>, /) -> int\n",
      "     |      \n",
      "     |      Count the number of occurrences of `value` in the bitarray.\n",
      "     |  \n",
      "     |  decode(...)\n",
      "     |      decode(code, /) -> list\n",
      "     |      \n",
      "     |      Given a prefix code (a dict mapping symbols to bitarrays, or `decodetree`\n",
      "     |      object), decode the content of the bitarray and return it as a list of\n",
      "     |      symbols.\n",
      "     |  \n",
      "     |  encode(...)\n",
      "     |      encode(code, iterable, /)\n",
      "     |      \n",
      "     |      Given a prefix code (a dict mapping symbols to bitarrays),\n",
      "     |      iterate over the iterable object with symbols, and extend the bitarray\n",
      "     |      with the corresponding bitarray for each symbol.\n",
      "     |  \n",
      "     |  endian(...)\n",
      "     |      endian() -> str\n",
      "     |      \n",
      "     |      Return the bit endianness of the bitarray as a string (`little` or `big`).\n",
      "     |  \n",
      "     |  extend(...)\n",
      "     |      extend(iterable, /)\n",
      "     |      \n",
      "     |      Append all items from `iterable` to the end of the bitarray.\n",
      "     |      If the iterable is a string, each `0` and `1` are appended as\n",
      "     |      bits (ignoring whitespace and underscore).\n",
      "     |  \n",
      "     |  fill(...)\n",
      "     |      fill() -> int\n",
      "     |      \n",
      "     |      Add zeros to the end of the bitarray, such that the length of the bitarray\n",
      "     |      will be a multiple of 8, and return the number of bits added (0..7).\n",
      "     |  \n",
      "     |  find(...)\n",
      "     |      find(sub_bitarray, start=0, stop=<end of array>, /) -> int\n",
      "     |      \n",
      "     |      Return the lowest index where sub_bitarray is found, such that sub_bitarray\n",
      "     |      is contained within `[start:stop]`.\n",
      "     |      Return -1 when sub_bitarray is not found.\n",
      "     |  \n",
      "     |  frombytes(...)\n",
      "     |      frombytes(bytes, /)\n",
      "     |      \n",
      "     |      Extend bitarray with raw bytes.  That is, each append byte will add eight\n",
      "     |      bits to the bitarray.\n",
      "     |  \n",
      "     |  fromfile(...)\n",
      "     |      fromfile(f, n=-1, /)\n",
      "     |      \n",
      "     |      Extend bitarray with up to n bytes read from the file object f.\n",
      "     |      When n is omitted or negative, reads all data until EOF.\n",
      "     |      When n is provided and positive but exceeds the data available,\n",
      "     |      `EOFError` is raised (but the available data is still read and appended.\n",
      "     |  \n",
      "     |  index(...)\n",
      "     |      index(sub_bitarray, start=0, stop=<end of array>, /) -> int\n",
      "     |      \n",
      "     |      Return the lowest index where sub_bitarray is found, such that sub_bitarray\n",
      "     |      is contained within `[start:stop]`.\n",
      "     |      Raises `ValueError` when the sub_bitarray is not present.\n",
      "     |  \n",
      "     |  insert(...)\n",
      "     |      insert(index, value, /)\n",
      "     |      \n",
      "     |      Insert `value` into the bitarray before `index`.\n",
      "     |  \n",
      "     |  invert(...)\n",
      "     |      invert(index=<all bits>, /)\n",
      "     |      \n",
      "     |      Invert all bits in the array (in-place).\n",
      "     |      When the optional `index` is given, only invert the single bit at index.\n",
      "     |  \n",
      "     |  iterdecode(...)\n",
      "     |      iterdecode(code, /) -> iterator\n",
      "     |      \n",
      "     |      Given a prefix code (a dict mapping symbols to bitarrays, or `decodetree`\n",
      "     |      object), decode the content of the bitarray and return an iterator over\n",
      "     |      the symbols.\n",
      "     |  \n",
      "     |  itersearch(...)\n",
      "     |      itersearch(sub_bitarray, /) -> iterator\n",
      "     |      \n",
      "     |      Searches for the given sub_bitarray in self, and return an iterator over\n",
      "     |      the start positions where bitarray matches self.\n",
      "     |  \n",
      "     |  pack(...)\n",
      "     |      pack(bytes, /)\n",
      "     |      \n",
      "     |      Extend the bitarray from bytes, where each byte corresponds to a single\n",
      "     |      bit.  The byte `b'\\x00'` maps to bit 0 and all other characters map to\n",
      "     |      bit 1.\n",
      "     |      This method, as well as the unpack method, are meant for efficient\n",
      "     |      transfer of data between bitarray objects to other python objects\n",
      "     |      (for example NumPy's ndarray object) which have a different memory view.\n",
      "     |  \n",
      "     |  pop(...)\n",
      "     |      pop(index=-1, /) -> item\n",
      "     |      \n",
      "     |      Return the i-th (default last) element and delete it from the bitarray.\n",
      "     |      Raises `IndexError` if bitarray is empty or index is out of range.\n",
      "     |  \n",
      "     |  remove(...)\n",
      "     |      remove(value, /)\n",
      "     |      \n",
      "     |      Remove the first occurrence of `value` in the bitarray.\n",
      "     |      Raises `ValueError` if item is not present.\n",
      "     |  \n",
      "     |  reverse(...)\n",
      "     |      reverse()\n",
      "     |      \n",
      "     |      Reverse all bits in the array (in-place).\n",
      "     |  \n",
      "     |  search(...)\n",
      "     |      search(sub_bitarray, limit=<none>, /) -> list\n",
      "     |      \n",
      "     |      Searches for the given sub_bitarray in self, and return the list of start\n",
      "     |      positions.\n",
      "     |      The optional argument limits the number of search results to the integer\n",
      "     |      specified.  By default, all search results are returned.\n",
      "     |  \n",
      "     |  setall(...)\n",
      "     |      setall(value, /)\n",
      "     |      \n",
      "     |      Set all elements in the bitarray to `value`.\n",
      "     |      Note that `a.setall(value)` is equivalent to `a[:] = value`.\n",
      "     |  \n",
      "     |  sort(...)\n",
      "     |      sort(reverse=False)\n",
      "     |      \n",
      "     |      Sort the bits in the array (in-place).\n",
      "     |  \n",
      "     |  to01(...)\n",
      "     |      to01() -> str\n",
      "     |      \n",
      "     |      Return a string containing '0's and '1's, representing the bits in the\n",
      "     |      bitarray.\n",
      "     |  \n",
      "     |  tobytes(...)\n",
      "     |      tobytes() -> bytes\n",
      "     |      \n",
      "     |      Return the byte representation of the bitarray.\n",
      "     |  \n",
      "     |  tofile(...)\n",
      "     |      tofile(f, /)\n",
      "     |      \n",
      "     |      Write the byte representation of the bitarray to the file object f.\n",
      "     |  \n",
      "     |  tolist(...)\n",
      "     |      tolist() -> list\n",
      "     |      \n",
      "     |      Return a list with the items (0 or 1) in the bitarray.\n",
      "     |      Note that the list object being created will require 32 or 64 times more\n",
      "     |      memory (depending on the machine architecture) than the bitarray object,\n",
      "     |      which may cause a memory error if the bitarray is very large.\n",
      "     |  \n",
      "     |  unpack(...)\n",
      "     |      unpack(zero=b'\\x00', one=b'\\x01') -> bytes\n",
      "     |      \n",
      "     |      Return bytes containing one character for each bit in the bitarray,\n",
      "     |      using the specified mapping.\n",
      "     |  \n",
      "     |  ----------------------------------------------------------------------\n",
      "     |  Static methods defined here:\n",
      "     |  \n",
      "     |  __new__(*args, **kwargs) from builtins.type\n",
      "     |      Create and return a new object.  See help(type) for accurate signature.\n",
      "     |  \n",
      "     |  ----------------------------------------------------------------------\n",
      "     |  Data and other attributes defined here:\n",
      "     |  \n",
      "     |  __hash__ = None\n",
      "    \n",
      "    class decodetree(builtins.object)\n",
      "     |  decodetree(code, /) -> decodetree\n",
      "     |  \n",
      "     |  Given a prefix code (a dict mapping symbols to bitarrays),\n",
      "     |  create a binary tree object to be passed to `.decode()` or `.iterdecode()`.\n",
      "     |  \n",
      "     |  Methods defined here:\n",
      "     |  \n",
      "     |  __getattribute__(self, name, /)\n",
      "     |      Return getattr(self, name).\n",
      "     |  \n",
      "     |  __sizeof__(...)\n",
      "     |      Size of object in memory, in bytes.\n",
      "     |  \n",
      "     |  nodes(...)\n",
      "     |  \n",
      "     |  todict(...)\n",
      "     |  \n",
      "     |  ----------------------------------------------------------------------\n",
      "     |  Static methods defined here:\n",
      "     |  \n",
      "     |  __new__(*args, **kwargs) from builtins.type\n",
      "     |      Create and return a new object.  See help(type) for accurate signature.\n",
      "     |  \n",
      "     |  ----------------------------------------------------------------------\n",
      "     |  Data and other attributes defined here:\n",
      "     |  \n",
      "     |  __hash__ = None\n",
      "    \n",
      "    class frozenbitarray(bitarray)\n",
      "     |  frozenbitarray(*args, **kwargs)\n",
      "     |  \n",
      "     |  frozenbitarray(initializer=0, /, endian='big', buffer=None) -> frozenbitarray\n",
      "     |  \n",
      "     |  Return a frozenbitarray object, which is initialized the same way a bitarray\n",
      "     |  object is initialized.  A frozenbitarray is immutable and hashable.\n",
      "     |  Its contents cannot be altered after it is created; however, it can be used\n",
      "     |  as a dictionary key.\n",
      "     |  \n",
      "     |  Method resolution order:\n",
      "     |      frozenbitarray\n",
      "     |      bitarray\n",
      "     |      builtins.object\n",
      "     |  \n",
      "     |  Methods defined here:\n",
      "     |  \n",
      "     |  __delitem__(self, *args, **kwargs)\n",
      "     |      # Technically the code below is not necessary, as all these methods will\n",
      "     |      # raise a TypeError on read-only memory.  However, with a different error\n",
      "     |      # message.\n",
      "     |  \n",
      "     |  __hash__(self)\n",
      "     |      Return hash(self).\n",
      "     |  \n",
      "     |  __iadd__ = __delitem__(self, *args, **kwargs)\n",
      "     |  \n",
      "     |  __iand__ = __delitem__(self, *args, **kwargs)\n",
      "     |  \n",
      "     |  __ilshift__ = __delitem__(self, *args, **kwargs)\n",
      "     |  \n",
      "     |  __imul__ = __delitem__(self, *args, **kwargs)\n",
      "     |  \n",
      "     |  __init__(self, *args, **kwargs)\n",
      "     |      Initialize self.  See help(type(self)) for accurate signature.\n",
      "     |  \n",
      "     |  __ior__ = __delitem__(self, *args, **kwargs)\n",
      "     |  \n",
      "     |  __irshift__ = __delitem__(self, *args, **kwargs)\n",
      "     |  \n",
      "     |  __ixor__ = __delitem__(self, *args, **kwargs)\n",
      "     |  \n",
      "     |  __repr__(self)\n",
      "     |      Return repr(self).\n",
      "     |  \n",
      "     |  __setitem__ = __delitem__(self, *args, **kwargs)\n",
      "     |  \n",
      "     |  append = __delitem__(self, *args, **kwargs)\n",
      "     |  \n",
      "     |  bytereverse = __delitem__(self, *args, **kwargs)\n",
      "     |  \n",
      "     |  clear = __delitem__(self, *args, **kwargs)\n",
      "     |  \n",
      "     |  encode = __delitem__(self, *args, **kwargs)\n",
      "     |  \n",
      "     |  extend = __delitem__(self, *args, **kwargs)\n",
      "     |  \n",
      "     |  fill = __delitem__(self, *args, **kwargs)\n",
      "     |  \n",
      "     |  frombytes = __delitem__(self, *args, **kwargs)\n",
      "     |  \n",
      "     |  fromfile = __delitem__(self, *args, **kwargs)\n",
      "     |  \n",
      "     |  insert = __delitem__(self, *args, **kwargs)\n",
      "     |  \n",
      "     |  invert = __delitem__(self, *args, **kwargs)\n",
      "     |  \n",
      "     |  pack = __delitem__(self, *args, **kwargs)\n",
      "     |  \n",
      "     |  pop = __delitem__(self, *args, **kwargs)\n",
      "     |  \n",
      "     |  remove = __delitem__(self, *args, **kwargs)\n",
      "     |  \n",
      "     |  reverse = __delitem__(self, *args, **kwargs)\n",
      "     |  \n",
      "     |  setall = __delitem__(self, *args, **kwargs)\n",
      "     |  \n",
      "     |  sort = __delitem__(self, *args, **kwargs)\n",
      "     |  \n",
      "     |  ----------------------------------------------------------------------\n",
      "     |  Data descriptors defined here:\n",
      "     |  \n",
      "     |  __dict__\n",
      "     |      dictionary for instance variables (if defined)\n",
      "     |  \n",
      "     |  ----------------------------------------------------------------------\n",
      "     |  Methods inherited from bitarray:\n",
      "     |  \n",
      "     |  __add__(self, value, /)\n",
      "     |      Return self+value.\n",
      "     |  \n",
      "     |  __and__(self, value, /)\n",
      "     |      Return self&value.\n",
      "     |  \n",
      "     |  __contains__(self, key, /)\n",
      "     |      Return key in self.\n",
      "     |  \n",
      "     |  __copy__(...)\n",
      "     |      copy() -> bitarray\n",
      "     |      \n",
      "     |      Return a copy of the bitarray.\n",
      "     |  \n",
      "     |  __deepcopy__(...)\n",
      "     |      copy() -> bitarray\n",
      "     |      \n",
      "     |      Return a copy of the bitarray.\n",
      "     |  \n",
      "     |  __eq__(self, value, /)\n",
      "     |      Return self==value.\n",
      "     |  \n",
      "     |  __ge__(self, value, /)\n",
      "     |      Return self>=value.\n",
      "     |  \n",
      "     |  __getattribute__(self, name, /)\n",
      "     |      Return getattr(self, name).\n",
      "     |  \n",
      "     |  __getitem__(self, key, /)\n",
      "     |      Return self[key].\n",
      "     |  \n",
      "     |  __gt__(self, value, /)\n",
      "     |      Return self>value.\n",
      "     |  \n",
      "     |  __invert__(self, /)\n",
      "     |      ~self\n",
      "     |  \n",
      "     |  __iter__(self, /)\n",
      "     |      Implement iter(self).\n",
      "     |  \n",
      "     |  __le__(self, value, /)\n",
      "     |      Return self<=value.\n",
      "     |  \n",
      "     |  __len__(self, /)\n",
      "     |      Return len(self).\n",
      "     |  \n",
      "     |  __lshift__(self, value, /)\n",
      "     |      Return self<<value.\n",
      "     |  \n",
      "     |  __lt__(self, value, /)\n",
      "     |      Return self<value.\n",
      "     |  \n",
      "     |  __mul__(self, value, /)\n",
      "     |      Return self*value.\n",
      "     |  \n",
      "     |  __ne__(self, value, /)\n",
      "     |      Return self!=value.\n",
      "     |  \n",
      "     |  __or__(self, value, /)\n",
      "     |      Return self|value.\n",
      "     |  \n",
      "     |  __rand__(self, value, /)\n",
      "     |      Return value&self.\n",
      "     |  \n",
      "     |  __reduce__(...)\n",
      "     |      state information for pickling\n",
      "     |  \n",
      "     |  __rlshift__(self, value, /)\n",
      "     |      Return value<<self.\n",
      "     |  \n",
      "     |  __rmul__(self, value, /)\n",
      "     |      Return value*self.\n",
      "     |  \n",
      "     |  __ror__(self, value, /)\n",
      "     |      Return value|self.\n",
      "     |  \n",
      "     |  __rrshift__(self, value, /)\n",
      "     |      Return value>>self.\n",
      "     |  \n",
      "     |  __rshift__(self, value, /)\n",
      "     |      Return self>>value.\n",
      "     |  \n",
      "     |  __rxor__(self, value, /)\n",
      "     |      Return value^self.\n",
      "     |  \n",
      "     |  __sizeof__(...)\n",
      "     |      Return the size of the bitarray in memory, in bytes.\n",
      "     |  \n",
      "     |  __xor__(self, value, /)\n",
      "     |      Return self^value.\n",
      "     |  \n",
      "     |  all(...)\n",
      "     |      all() -> bool\n",
      "     |      \n",
      "     |      Return True when all bits in the array are True.\n",
      "     |      Note that `a.all()` is faster than `all(a)`.\n",
      "     |  \n",
      "     |  any(...)\n",
      "     |      any() -> bool\n",
      "     |      \n",
      "     |      Return True when any bit in the array is True.\n",
      "     |      Note that `a.any()` is faster than `any(a)`.\n",
      "     |  \n",
      "     |  buffer_info(...)\n",
      "     |      buffer_info() -> tuple\n",
      "     |      \n",
      "     |      Return a tuple containing:\n",
      "     |      \n",
      "     |      0. memory address of buffer\n",
      "     |      1. buffer size (in bytes)\n",
      "     |      2. bit endianness as a string\n",
      "     |      3. number of unused padding bits\n",
      "     |      4. allocated memory for the buffer (in bytes)\n",
      "     |      5. memory is read-only\n",
      "     |      6. buffer is imported\n",
      "     |      7. number of buffer exports\n",
      "     |  \n",
      "     |  copy(...)\n",
      "     |      copy() -> bitarray\n",
      "     |      \n",
      "     |      Return a copy of the bitarray.\n",
      "     |  \n",
      "     |  count(...)\n",
      "     |      count(value=1, start=0, stop=<end of array>, /) -> int\n",
      "     |      \n",
      "     |      Count the number of occurrences of `value` in the bitarray.\n",
      "     |  \n",
      "     |  decode(...)\n",
      "     |      decode(code, /) -> list\n",
      "     |      \n",
      "     |      Given a prefix code (a dict mapping symbols to bitarrays, or `decodetree`\n",
      "     |      object), decode the content of the bitarray and return it as a list of\n",
      "     |      symbols.\n",
      "     |  \n",
      "     |  endian(...)\n",
      "     |      endian() -> str\n",
      "     |      \n",
      "     |      Return the bit endianness of the bitarray as a string (`little` or `big`).\n",
      "     |  \n",
      "     |  find(...)\n",
      "     |      find(sub_bitarray, start=0, stop=<end of array>, /) -> int\n",
      "     |      \n",
      "     |      Return the lowest index where sub_bitarray is found, such that sub_bitarray\n",
      "     |      is contained within `[start:stop]`.\n",
      "     |      Return -1 when sub_bitarray is not found.\n",
      "     |  \n",
      "     |  index(...)\n",
      "     |      index(sub_bitarray, start=0, stop=<end of array>, /) -> int\n",
      "     |      \n",
      "     |      Return the lowest index where sub_bitarray is found, such that sub_bitarray\n",
      "     |      is contained within `[start:stop]`.\n",
      "     |      Raises `ValueError` when the sub_bitarray is not present.\n",
      "     |  \n",
      "     |  iterdecode(...)\n",
      "     |      iterdecode(code, /) -> iterator\n",
      "     |      \n",
      "     |      Given a prefix code (a dict mapping symbols to bitarrays, or `decodetree`\n",
      "     |      object), decode the content of the bitarray and return an iterator over\n",
      "     |      the symbols.\n",
      "     |  \n",
      "     |  itersearch(...)\n",
      "     |      itersearch(sub_bitarray, /) -> iterator\n",
      "     |      \n",
      "     |      Searches for the given sub_bitarray in self, and return an iterator over\n",
      "     |      the start positions where bitarray matches self.\n",
      "     |  \n",
      "     |  search(...)\n",
      "     |      search(sub_bitarray, limit=<none>, /) -> list\n",
      "     |      \n",
      "     |      Searches for the given sub_bitarray in self, and return the list of start\n",
      "     |      positions.\n",
      "     |      The optional argument limits the number of search results to the integer\n",
      "     |      specified.  By default, all search results are returned.\n",
      "     |  \n",
      "     |  to01(...)\n",
      "     |      to01() -> str\n",
      "     |      \n",
      "     |      Return a string containing '0's and '1's, representing the bits in the\n",
      "     |      bitarray.\n",
      "     |  \n",
      "     |  tobytes(...)\n",
      "     |      tobytes() -> bytes\n",
      "     |      \n",
      "     |      Return the byte representation of the bitarray.\n",
      "     |  \n",
      "     |  tofile(...)\n",
      "     |      tofile(f, /)\n",
      "     |      \n",
      "     |      Write the byte representation of the bitarray to the file object f.\n",
      "     |  \n",
      "     |  tolist(...)\n",
      "     |      tolist() -> list\n",
      "     |      \n",
      "     |      Return a list with the items (0 or 1) in the bitarray.\n",
      "     |      Note that the list object being created will require 32 or 64 times more\n",
      "     |      memory (depending on the machine architecture) than the bitarray object,\n",
      "     |      which may cause a memory error if the bitarray is very large.\n",
      "     |  \n",
      "     |  unpack(...)\n",
      "     |      unpack(zero=b'\\x00', one=b'\\x01') -> bytes\n",
      "     |      \n",
      "     |      Return bytes containing one character for each bit in the bitarray,\n",
      "     |      using the specified mapping.\n",
      "     |  \n",
      "     |  ----------------------------------------------------------------------\n",
      "     |  Static methods inherited from bitarray:\n",
      "     |  \n",
      "     |  __new__(*args, **kwargs) from builtins.type\n",
      "     |      Create and return a new object.  See help(type) for accurate signature.\n",
      "\n",
      "DATA\n",
      "    __all__ = ['bitarray', 'frozenbitarray', 'decodetree', '__version__']\n",
      "\n",
      "VERSION\n",
      "    2.3.4\n",
      "\n",
      "FILE\n",
      "    /usr/local/lib/python3.10/site-packages/bitarray/__init__.py\n",
      "\n",
      "\n"
     ]
    }
   ],
   "source": [
    "help(bitarray)"
   ]
  },
  {
   "cell_type": "code",
   "execution_count": 62,
   "metadata": {},
   "outputs": [
    {
     "data": {
      "text/plain": [
       "'0b10'"
      ]
     },
     "execution_count": 62,
     "metadata": {},
     "output_type": "execute_result"
    }
   ],
   "source": [
    "bin(0b1011 & 0b0110)  # bitwise and"
   ]
  },
  {
   "cell_type": "code",
   "execution_count": 63,
   "metadata": {},
   "outputs": [
    {
     "data": {
      "text/plain": [
       "'0b1111'"
      ]
     },
     "execution_count": 63,
     "metadata": {},
     "output_type": "execute_result"
    }
   ],
   "source": [
    "bin(0b1011 | 0b0110)  # bitwise or"
   ]
  },
  {
   "cell_type": "code",
   "execution_count": 64,
   "metadata": {},
   "outputs": [
    {
     "data": {
      "text/plain": [
       "'0b1101'"
      ]
     },
     "execution_count": 64,
     "metadata": {},
     "output_type": "execute_result"
    }
   ],
   "source": [
    "bin(0b1011 ^ 0b0110)  # bitwise xor"
   ]
  },
  {
   "cell_type": "code",
   "execution_count": 68,
   "metadata": {},
   "outputs": [
    {
     "data": {
      "text/plain": [
       "'-0b1100'"
      ]
     },
     "execution_count": 68,
     "metadata": {},
     "output_type": "execute_result"
    }
   ],
   "source": [
    "bin(~11)"
   ]
  },
  {
   "cell_type": "code",
   "execution_count": 70,
   "metadata": {},
   "outputs": [
    {
     "data": {
      "text/plain": [
       "12345"
      ]
     },
     "execution_count": 70,
     "metadata": {},
     "output_type": "execute_result"
    }
   ],
   "source": [
    "int('0x3039', 16)"
   ]
  },
  {
   "cell_type": "code",
   "execution_count": 71,
   "metadata": {},
   "outputs": [
    {
     "data": {
      "text/plain": [
       "12345"
      ]
     },
     "execution_count": 71,
     "metadata": {},
     "output_type": "execute_result"
    }
   ],
   "source": [
    "eval('0x3039')   # eval evil"
   ]
  },
  {
   "cell_type": "code",
   "execution_count": 72,
   "metadata": {},
   "outputs": [
    {
     "data": {
      "text/plain": [
       "13"
      ]
     },
     "execution_count": 72,
     "metadata": {},
     "output_type": "execute_result"
    }
   ],
   "source": [
    "x = 10\n",
    "y = 3\n",
    "\n",
    "x + y"
   ]
  },
  {
   "cell_type": "code",
   "execution_count": 73,
   "metadata": {},
   "outputs": [
    {
     "data": {
      "text/plain": [
       "7"
      ]
     },
     "execution_count": 73,
     "metadata": {},
     "output_type": "execute_result"
    }
   ],
   "source": [
    "x - y"
   ]
  },
  {
   "cell_type": "code",
   "execution_count": 74,
   "metadata": {},
   "outputs": [
    {
     "data": {
      "text/plain": [
       "30"
      ]
     },
     "execution_count": 74,
     "metadata": {},
     "output_type": "execute_result"
    }
   ],
   "source": [
    "x * y"
   ]
  },
  {
   "cell_type": "code",
   "execution_count": 76,
   "metadata": {},
   "outputs": [
    {
     "data": {
      "text/plain": [
       "3.3333333333333335"
      ]
     },
     "execution_count": 76,
     "metadata": {},
     "output_type": "execute_result"
    }
   ],
   "source": [
    "x / y   # always float   -- truediv"
   ]
  },
  {
   "cell_type": "code",
   "execution_count": 77,
   "metadata": {},
   "outputs": [
    {
     "data": {
      "text/plain": [
       "3"
      ]
     },
     "execution_count": 77,
     "metadata": {},
     "output_type": "execute_result"
    }
   ],
   "source": [
    "x // y   # always int   -- floordiv"
   ]
  },
  {
   "cell_type": "code",
   "execution_count": 78,
   "metadata": {},
   "outputs": [
    {
     "data": {
      "text/plain": [
       "1000"
      ]
     },
     "execution_count": 78,
     "metadata": {},
     "output_type": "execute_result"
    }
   ],
   "source": [
    "x ** y"
   ]
  },
  {
   "cell_type": "code",
   "execution_count": 79,
   "metadata": {},
   "outputs": [
    {
     "data": {
      "text/plain": [
       "1"
      ]
     },
     "execution_count": 79,
     "metadata": {},
     "output_type": "execute_result"
    }
   ],
   "source": [
    "x % y"
   ]
  },
  {
   "cell_type": "code",
   "execution_count": null,
   "metadata": {},
   "outputs": [],
   "source": []
  }
 ],
 "metadata": {
  "kernelspec": {
   "display_name": "Python 3 (ipykernel)",
   "language": "python",
   "name": "python3"
  },
  "language_info": {
   "codemirror_mode": {
    "name": "ipython",
    "version": 3
   },
   "file_extension": ".py",
   "mimetype": "text/x-python",
   "name": "python",
   "nbconvert_exporter": "python",
   "pygments_lexer": "ipython3",
   "version": "3.10.1"
  }
 },
 "nbformat": 4,
 "nbformat_minor": 4
}
