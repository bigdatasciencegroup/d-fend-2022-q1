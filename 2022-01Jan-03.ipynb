{
 "cells": [
  {
   "cell_type": "markdown",
   "metadata": {},
   "source": [
    "# Agenda\n",
    "\n",
    "1. Jupyter intro\n",
    "2. Data structures\n",
    "    - Basic data structures -- in depth\n",
    "    - Complex data structures\n",
    "3. Functions\n",
    "    - Parameters\n",
    "    - Scoping\n",
    "    - Function objects\n",
    "    - Inner functions\n",
    "    - Storing functions in data structures\n",
    "4. Functional programming\n",
    "    - Comprehensions (list, set, dict, nested)\n",
    "    - Functions as arguments\n",
    "    - `lambda`, `map`, `filter`, `reduce`\n",
    "5. Modules\n",
    "6. Objects\n",
    "    - Classes\n",
    "    - Methods\n",
    "    - Attributes (ICPO) \n",
    "    - Inheritance\n",
    "    - Methods vs. functions\n",
    "    - Magic methods\n",
    "    - Properties\n",
    "    - Descriptors\n",
    "7. Iterators + generators\n",
    "8. Decorators\n",
    "9. Concurrency (threading + multiprocessing)"
   ]
  },
  {
   "cell_type": "code",
   "execution_count": 1,
   "metadata": {},
   "outputs": [],
   "source": [
    "# REPL -- read, eval, print loop"
   ]
  },
  {
   "cell_type": "code",
   "execution_count": 2,
   "metadata": {},
   "outputs": [
    {
     "name": "stdout",
     "output_type": "stream",
     "text": [
      "abcdefgh\n"
     ]
    }
   ],
   "source": [
    "x = 'abcd'\n",
    "y = 'efgh'\n",
    "\n",
    "print(x + y)"
   ]
  },
  {
   "cell_type": "code",
   "execution_count": 3,
   "metadata": {
    "scrolled": true
   },
   "outputs": [
    {
     "name": "stdout",
     "output_type": "stream",
     "text": [
      "ABCD\n"
     ]
    }
   ],
   "source": [
    "print(x.upper())"
   ]
  },
  {
   "cell_type": "markdown",
   "metadata": {},
   "source": [
    "# Jupyter modes\n",
    "\n",
    "- Edit mode - green outline, press ENTER or click inside. Typing is put into the cell.\n",
    "- Command mode - blue outline, press ESC or click outside. Typing is used as Jupyter commands."
   ]
  },
  {
   "cell_type": "code",
   "execution_count": 4,
   "metadata": {},
   "outputs": [
    {
     "data": {
      "text/plain": [
       "60"
      ]
     },
     "execution_count": 4,
     "metadata": {},
     "output_type": "execute_result"
    }
   ],
   "source": [
    "10 + 10  \n",
    "20 + 20\n",
    "30 + 30  # last line + expression (returns a value)"
   ]
  },
  {
   "cell_type": "code",
   "execution_count": 5,
   "metadata": {},
   "outputs": [
    {
     "data": {
      "text/plain": [
       "'abcd'"
      ]
     },
     "execution_count": 5,
     "metadata": {},
     "output_type": "execute_result"
    }
   ],
   "source": [
    "x"
   ]
  },
  {
   "cell_type": "code",
   "execution_count": 6,
   "metadata": {},
   "outputs": [
    {
     "data": {
      "text/plain": [
       "'ABCD'"
      ]
     },
     "execution_count": 6,
     "metadata": {},
     "output_type": "execute_result"
    }
   ],
   "source": [
    "x.upper()"
   ]
  },
  {
   "cell_type": "markdown",
   "metadata": {},
   "source": [
    "# Jupyter modes\n",
    "\n",
    "- Edit mode - green outline, press ENTER or click inside. Typing is put into the cell.\n",
    "- Command mode - blue outline, press ESC or click outside. Typing is used as Jupyter commands.\n",
    "\n",
    "shift-ENTER executes the cell"
   ]
  },
  {
   "cell_type": "markdown",
   "metadata": {},
   "source": [
    "# Cell types\n",
    "\n",
    "- Code -- command mode `y`\n",
    "- Markdown -- command mode `m`"
   ]
  },
  {
   "cell_type": "code",
   "execution_count": 7,
   "metadata": {},
   "outputs": [
    {
     "name": "stdout",
     "output_type": "stream",
     "text": [
      "a\n",
      "b\n",
      "c\n"
     ]
    }
   ],
   "source": [
    "print('a')\n",
    "print('b')\n",
    "print('c')"
   ]
  },
  {
   "cell_type": "markdown",
   "metadata": {},
   "source": [
    "# Data structures"
   ]
  },
  {
   "cell_type": "code",
   "execution_count": 8,
   "metadata": {},
   "outputs": [
    {
     "data": {
      "text/plain": [
       "100"
      ]
     },
     "execution_count": 8,
     "metadata": {},
     "output_type": "execute_result"
    }
   ],
   "source": [
    "x = 100\n",
    "y = x\n",
    "\n",
    "x = 200\n",
    "y"
   ]
  },
  {
   "cell_type": "markdown",
   "metadata": {},
   "source": [
    "# Link to Python tutor with list\n",
    "\n",
    "https://pythontutor.com/live.html#code=x%20%3D%20%5B10,%2020,%2030%5D%0Ay%20%3D%20x%0A%0Ax%5B0%5D%20%3D%20'!'%0A&cumulative=false&curInstr=3&heapPrimitives=true&mode=display&origin=opt-live.js&py=3&rawInputLstJSON=%5B%5D&textReferences=false\n",
    "\n"
   ]
  },
  {
   "cell_type": "code",
   "execution_count": 9,
   "metadata": {},
   "outputs": [],
   "source": [
    "x = None\n",
    "y = None\n",
    "\n"
   ]
  },
  {
   "cell_type": "code",
   "execution_count": 10,
   "metadata": {},
   "outputs": [
    {
     "data": {
      "text/plain": [
       "NoneType"
      ]
     },
     "execution_count": 10,
     "metadata": {},
     "output_type": "execute_result"
    }
   ],
   "source": [
    "type(None)"
   ]
  },
  {
   "cell_type": "code",
   "execution_count": 11,
   "metadata": {},
   "outputs": [],
   "source": [
    "z = type(None)()"
   ]
  },
  {
   "cell_type": "code",
   "execution_count": 12,
   "metadata": {},
   "outputs": [
    {
     "name": "stdout",
     "output_type": "stream",
     "text": [
      "None\n"
     ]
    }
   ],
   "source": [
    "print(z)"
   ]
  },
  {
   "cell_type": "code",
   "execution_count": 13,
   "metadata": {},
   "outputs": [
    {
     "data": {
      "text/plain": [
       "NoneType"
      ]
     },
     "execution_count": 13,
     "metadata": {},
     "output_type": "execute_result"
    }
   ],
   "source": [
    "type(z)"
   ]
  },
  {
   "cell_type": "code",
   "execution_count": 15,
   "metadata": {},
   "outputs": [
    {
     "name": "stdout",
     "output_type": "stream",
     "text": [
      "yes, it is None!\n"
     ]
    }
   ],
   "source": [
    "if x == None:  # not Pythonic\n",
    "    print('yes, it is None!')"
   ]
  },
  {
   "cell_type": "code",
   "execution_count": 16,
   "metadata": {},
   "outputs": [
    {
     "data": {
      "text/plain": [
       "4424744960"
      ]
     },
     "execution_count": 16,
     "metadata": {},
     "output_type": "execute_result"
    }
   ],
   "source": [
    "id(None)"
   ]
  },
  {
   "cell_type": "code",
   "execution_count": 17,
   "metadata": {},
   "outputs": [
    {
     "data": {
      "text/plain": [
       "4424744960"
      ]
     },
     "execution_count": 17,
     "metadata": {},
     "output_type": "execute_result"
    }
   ],
   "source": [
    "id(x)"
   ]
  },
  {
   "cell_type": "code",
   "execution_count": 18,
   "metadata": {},
   "outputs": [
    {
     "data": {
      "text/plain": [
       "4424744960"
      ]
     },
     "execution_count": 18,
     "metadata": {},
     "output_type": "execute_result"
    }
   ],
   "source": [
    "id(y)"
   ]
  },
  {
   "cell_type": "code",
   "execution_count": 19,
   "metadata": {},
   "outputs": [
    {
     "data": {
      "text/plain": [
       "4424744960"
      ]
     },
     "execution_count": 19,
     "metadata": {},
     "output_type": "execute_result"
    }
   ],
   "source": [
    "id(z)"
   ]
  },
  {
   "cell_type": "code",
   "execution_count": 20,
   "metadata": {},
   "outputs": [
    {
     "data": {
      "text/plain": [
       "True"
      ]
     },
     "execution_count": 20,
     "metadata": {},
     "output_type": "execute_result"
    }
   ],
   "source": [
    "id(x) == id(None)"
   ]
  },
  {
   "cell_type": "code",
   "execution_count": 22,
   "metadata": {},
   "outputs": [
    {
     "name": "stdout",
     "output_type": "stream",
     "text": [
      "Yes, x is None!\n"
     ]
    }
   ],
   "source": [
    "# to compare ids, we use \"is\"\n",
    "# 'x is None' == 'id(x) == id(None)'\n",
    "\n",
    "if x is None:\n",
    "    print('Yes, x is None!')"
   ]
  },
  {
   "cell_type": "code",
   "execution_count": 23,
   "metadata": {},
   "outputs": [
    {
     "data": {
      "text/plain": [
       "True"
      ]
     },
     "execution_count": 23,
     "metadata": {},
     "output_type": "execute_result"
    }
   ],
   "source": [
    "x = 100\n",
    "y = 100\n",
    "\n",
    "x == y"
   ]
  },
  {
   "cell_type": "code",
   "execution_count": 24,
   "metadata": {},
   "outputs": [
    {
     "data": {
      "text/plain": [
       "True"
      ]
     },
     "execution_count": 24,
     "metadata": {},
     "output_type": "execute_result"
    }
   ],
   "source": [
    "x is y"
   ]
  },
  {
   "cell_type": "code",
   "execution_count": 25,
   "metadata": {},
   "outputs": [
    {
     "data": {
      "text/plain": [
       "True"
      ]
     },
     "execution_count": 25,
     "metadata": {},
     "output_type": "execute_result"
    }
   ],
   "source": [
    "x = 1000\n",
    "y = 1000\n",
    "\n",
    "x == y"
   ]
  },
  {
   "cell_type": "code",
   "execution_count": 26,
   "metadata": {},
   "outputs": [
    {
     "data": {
      "text/plain": [
       "False"
      ]
     },
     "execution_count": 26,
     "metadata": {},
     "output_type": "execute_result"
    }
   ],
   "source": [
    "x is y"
   ]
  },
  {
   "cell_type": "code",
   "execution_count": null,
   "metadata": {},
   "outputs": [],
   "source": [
    "# -5 - 256"
   ]
  },
  {
   "cell_type": "code",
   "execution_count": 27,
   "metadata": {},
   "outputs": [
    {
     "name": "stdout",
     "output_type": "stream",
     "text": [
      "Yes, it is True!\n"
     ]
    }
   ],
   "source": [
    "x = True\n",
    "\n",
    "if x is True:\n",
    "    print('Yes, it is True!')"
   ]
  },
  {
   "cell_type": "code",
   "execution_count": null,
   "metadata": {},
   "outputs": [],
   "source": [
    "x = True\n",
    "\n",
    "if x:\n",
    "    print('Yes, it is True!')"
   ]
  },
  {
   "cell_type": "code",
   "execution_count": 28,
   "metadata": {},
   "outputs": [
    {
     "name": "stdout",
     "output_type": "stream",
     "text": [
      "Yes, it is False!\n"
     ]
    }
   ],
   "source": [
    "x = False\n",
    "\n",
    "if not x:\n",
    "    print('Yes, it is False!')"
   ]
  },
  {
   "cell_type": "code",
   "execution_count": 30,
   "metadata": {},
   "outputs": [
    {
     "name": "stdout",
     "output_type": "stream",
     "text": [
      "Yes, it is True-ish!\n"
     ]
    }
   ],
   "source": [
    "x = 10\n",
    "\n",
    "if x:\n",
    "    print('Yes, it is True-ish!')"
   ]
  },
  {
   "cell_type": "markdown",
   "metadata": {},
   "source": [
    "# Boolean context\n",
    "\n",
    "Everything in Python is `True` in a boolean context, except:\n",
    "\n",
    "- `False`\n",
    "- `None`\n",
    "- 0\n",
    "- Everything empty\n"
   ]
  },
  {
   "cell_type": "code",
   "execution_count": 31,
   "metadata": {},
   "outputs": [
    {
     "data": {
      "text/plain": [
       "False"
      ]
     },
     "execution_count": 31,
     "metadata": {},
     "output_type": "execute_result"
    }
   ],
   "source": [
    "10 == True"
   ]
  },
  {
   "cell_type": "code",
   "execution_count": 32,
   "metadata": {},
   "outputs": [
    {
     "data": {
      "text/plain": [
       "True"
      ]
     },
     "execution_count": 32,
     "metadata": {},
     "output_type": "execute_result"
    }
   ],
   "source": [
    "bool(10) == True"
   ]
  },
  {
   "cell_type": "code",
   "execution_count": 33,
   "metadata": {},
   "outputs": [
    {
     "name": "stderr",
     "output_type": "stream",
     "text": [
      "<>:1: SyntaxWarning: \"is\" with a literal. Did you mean \"==\"?\n",
      "<>:1: SyntaxWarning: \"is\" with a literal. Did you mean \"==\"?\n",
      "/var/folders/rr/0mnyyv811fs5vyp22gf4fxk00000gn/T/ipykernel_34118/3899848343.py:1: SyntaxWarning: \"is\" with a literal. Did you mean \"==\"?\n",
      "  10 is True\n"
     ]
    },
    {
     "data": {
      "text/plain": [
       "False"
      ]
     },
     "execution_count": 33,
     "metadata": {},
     "output_type": "execute_result"
    }
   ],
   "source": [
    "10 is True"
   ]
  },
  {
   "cell_type": "code",
   "execution_count": 34,
   "metadata": {},
   "outputs": [
    {
     "ename": "SyntaxError",
     "evalue": "unterminated string literal (detected at line 1) (531326978.py, line 1)",
     "output_type": "error",
     "traceback": [
      "\u001b[0;36m  File \u001b[0;32m\"/var/folders/rr/0mnyyv811fs5vyp22gf4fxk00000gn/T/ipykernel_34118/531326978.py\"\u001b[0;36m, line \u001b[0;32m1\u001b[0m\n\u001b[0;31m    s = 'abcde\u001b[0m\n\u001b[0m        ^\u001b[0m\n\u001b[0;31mSyntaxError\u001b[0m\u001b[0;31m:\u001b[0m unterminated string literal (detected at line 1)\n"
     ]
    }
   ],
   "source": [
    "s = 'abcde"
   ]
  },
  {
   "cell_type": "code",
   "execution_count": 35,
   "metadata": {},
   "outputs": [
    {
     "ename": "NameError",
     "evalue": "name 'true' is not defined",
     "output_type": "error",
     "traceback": [
      "\u001b[0;31m---------------------------------------------------------------------------\u001b[0m",
      "\u001b[0;31mNameError\u001b[0m                                 Traceback (most recent call last)",
      "\u001b[0;32m/var/folders/rr/0mnyyv811fs5vyp22gf4fxk00000gn/T/ipykernel_34118/3333814890.py\u001b[0m in \u001b[0;36m<module>\u001b[0;34m\u001b[0m\n\u001b[0;32m----> 1\u001b[0;31m \u001b[0mx\u001b[0m \u001b[0;34m=\u001b[0m \u001b[0mtrue\u001b[0m\u001b[0;34m\u001b[0m\u001b[0;34m\u001b[0m\u001b[0m\n\u001b[0m",
      "\u001b[0;31mNameError\u001b[0m: name 'true' is not defined"
     ]
    }
   ],
   "source": [
    "x = true"
   ]
  },
  {
   "cell_type": "code",
   "execution_count": 36,
   "metadata": {},
   "outputs": [
    {
     "name": "stdout",
     "output_type": "stream",
     "text": [
      "None\n"
     ]
    }
   ],
   "source": [
    "mylist = [10, 20, 30]\n",
    "\n",
    "# list.append returns None... so mylist is overwritten with None!\n",
    "mylist = mylist.append(40)\n",
    "\n",
    "print(mylist)"
   ]
  },
  {
   "cell_type": "code",
   "execution_count": 37,
   "metadata": {},
   "outputs": [
    {
     "data": {
      "text/plain": [
       "[10, 20, 30, 40]"
      ]
     },
     "execution_count": 37,
     "metadata": {},
     "output_type": "execute_result"
    }
   ],
   "source": [
    "mylist = [10, 20, 30]\n",
    "\n",
    "mylist.append(40)\n",
    "\n",
    "mylist"
   ]
  },
  {
   "cell_type": "markdown",
   "metadata": {},
   "source": [
    "# Numbers\n",
    "\n",
    "`int`"
   ]
  },
  {
   "cell_type": "code",
   "execution_count": 38,
   "metadata": {},
   "outputs": [
    {
     "data": {
      "text/plain": [
       "24"
      ]
     },
     "execution_count": 38,
     "metadata": {},
     "output_type": "execute_result"
    }
   ],
   "source": [
    "import sys\n",
    "\n",
    "x = 0\n",
    "sys.getsizeof(x)"
   ]
  },
  {
   "cell_type": "code",
   "execution_count": 39,
   "metadata": {},
   "outputs": [
    {
     "data": {
      "text/plain": [
       "28"
      ]
     },
     "execution_count": 39,
     "metadata": {},
     "output_type": "execute_result"
    }
   ],
   "source": [
    "x = 1\n",
    "sys.getsizeof(x)  # how many bytes!"
   ]
  },
  {
   "cell_type": "code",
   "execution_count": 40,
   "metadata": {},
   "outputs": [
    {
     "data": {
      "text/plain": [
       "28"
      ]
     },
     "execution_count": 40,
     "metadata": {},
     "output_type": "execute_result"
    }
   ],
   "source": [
    "x = 1_000_000_000\n",
    "sys.getsizeof(x)"
   ]
  },
  {
   "cell_type": "code",
   "execution_count": 41,
   "metadata": {},
   "outputs": [],
   "source": [
    "x = x ** 10000"
   ]
  },
  {
   "cell_type": "code",
   "execution_count": 42,
   "metadata": {},
   "outputs": [
    {
     "data": {
      "text/plain": [
       "39888"
      ]
     },
     "execution_count": 42,
     "metadata": {},
     "output_type": "execute_result"
    }
   ],
   "source": [
    "sys.getsizeof(x)"
   ]
  },
  {
   "cell_type": "code",
   "execution_count": 45,
   "metadata": {},
   "outputs": [
    {
     "data": {
      "text/plain": [
       "398656"
      ]
     },
     "execution_count": 45,
     "metadata": {},
     "output_type": "execute_result"
    }
   ],
   "source": [
    "x = x ** 10\n",
    "sys.getsizeof(x)"
   ]
  },
  {
   "cell_type": "code",
   "execution_count": 47,
   "metadata": {},
   "outputs": [
    {
     "data": {
      "text/plain": [
       "12345"
      ]
     },
     "execution_count": 47,
     "metadata": {},
     "output_type": "execute_result"
    }
   ],
   "source": [
    "x = 1_2_3_4_5  # starting with Python 3.7\n",
    "x"
   ]
  },
  {
   "cell_type": "code",
   "execution_count": 48,
   "metadata": {},
   "outputs": [
    {
     "data": {
      "text/plain": [
       "12345"
      ]
     },
     "execution_count": 48,
     "metadata": {},
     "output_type": "execute_result"
    }
   ],
   "source": [
    "int('12345')"
   ]
  },
  {
   "cell_type": "code",
   "execution_count": 50,
   "metadata": {},
   "outputs": [
    {
     "data": {
      "text/plain": [
       "74565"
      ]
     },
     "execution_count": 50,
     "metadata": {},
     "output_type": "execute_result"
    }
   ],
   "source": [
    "# 2nd optional argument is the base\n",
    "int('12345', 16)"
   ]
  },
  {
   "cell_type": "code",
   "execution_count": 51,
   "metadata": {},
   "outputs": [
    {
     "data": {
      "text/plain": [
       "74565"
      ]
     },
     "execution_count": 51,
     "metadata": {},
     "output_type": "execute_result"
    }
   ],
   "source": [
    "0x12345"
   ]
  },
  {
   "cell_type": "code",
   "execution_count": 52,
   "metadata": {},
   "outputs": [
    {
     "data": {
      "text/plain": [
       "170"
      ]
     },
     "execution_count": 52,
     "metadata": {},
     "output_type": "execute_result"
    }
   ],
   "source": [
    "0b10101010"
   ]
  },
  {
   "cell_type": "code",
   "execution_count": 54,
   "metadata": {},
   "outputs": [
    {
     "data": {
      "text/plain": [
       "5349"
      ]
     },
     "execution_count": 54,
     "metadata": {},
     "output_type": "execute_result"
    }
   ],
   "source": [
    "0o12345"
   ]
  },
  {
   "cell_type": "code",
   "execution_count": 55,
   "metadata": {},
   "outputs": [
    {
     "data": {
      "text/plain": [
       "'0x3039'"
      ]
     },
     "execution_count": 55,
     "metadata": {},
     "output_type": "execute_result"
    }
   ],
   "source": [
    "hex(12345)"
   ]
  },
  {
   "cell_type": "code",
   "execution_count": 56,
   "metadata": {},
   "outputs": [
    {
     "data": {
      "text/plain": [
       "'0o30071'"
      ]
     },
     "execution_count": 56,
     "metadata": {},
     "output_type": "execute_result"
    }
   ],
   "source": [
    "oct(12345)"
   ]
  },
  {
   "cell_type": "code",
   "execution_count": 57,
   "metadata": {},
   "outputs": [
    {
     "data": {
      "text/plain": [
       "'0b11000000111001'"
      ]
     },
     "execution_count": 57,
     "metadata": {},
     "output_type": "execute_result"
    }
   ],
   "source": [
    "bin(12345)"
   ]
  },
  {
   "cell_type": "code",
   "execution_count": 58,
   "metadata": {},
   "outputs": [],
   "source": [
    "import bitarray"
   ]
  },
  {
   "cell_type": "code",
   "execution_count": 59,
   "metadata": {
    "collapsed": true
   },
   "outputs": [
    {
     "name": "stdout",
     "output_type": "stream",
     "text": [
      "Help on package bitarray:\n",
      "\n",
      "NAME\n",
      "    bitarray\n",
      "\n",
      "DESCRIPTION\n",
      "    This package defines an object type which can efficiently represent\n",
      "    a bitarray.  Bitarrays are sequence types and behave very much like lists.\n",
      "    \n",
      "    Please find a description of this package at:\n",
      "    \n",
      "        https://github.com/ilanschnell/bitarray\n",
      "    \n",
      "    Author: Ilan Schnell\n",
      "\n",
      "PACKAGE CONTENTS\n",
      "    _bitarray\n",
      "    _util\n",
      "    test_bitarray\n",
      "    test_util\n",
      "    util\n",
      "\n",
      "CLASSES\n",
      "    builtins.object\n",
      "        bitarray\n",
      "            frozenbitarray\n",
      "        decodetree\n",
      "    \n",
      "    class bitarray(builtins.object)\n",
      "     |  bitarray(initializer=0, /, endian='big', buffer=None) -> bitarray\n",
      "     |  \n",
      "     |  Return a new bitarray object whose items are bits initialized from\n",
      "     |  the optional initial object, and endianness.\n",
      "     |  The initializer may be of the following types:\n",
      "     |  \n",
      "     |  `int`: Create a bitarray of given integer length.  The initial values are\n",
      "     |  uninitialized.\n",
      "     |  \n",
      "     |  `str`: Create bitarray from a string of `0` and `1`.\n",
      "     |  \n",
      "     |  `iterable`: Create bitarray from iterable or sequence or integers 0 or 1.\n",
      "     |  \n",
      "     |  Optional keyword arguments:\n",
      "     |  \n",
      "     |  `endian`: Specifies the bit endianness of the created bitarray object.\n",
      "     |  Allowed values are `big` and `little` (the default is `big`).\n",
      "     |  The bit endianness effects the buffer representation of the bitarray.\n",
      "     |  \n",
      "     |  `buffer`: Any object which exposes a buffer.  When provided, `initializer`\n",
      "     |  cannot be present (or has to be `None`).  The imported buffer may be\n",
      "     |  readonly or writable, depending on the object type.\n",
      "     |  \n",
      "     |  Methods defined here:\n",
      "     |  \n",
      "     |  __add__(self, value, /)\n",
      "     |      Return self+value.\n",
      "     |  \n",
      "     |  __and__(self, value, /)\n",
      "     |      Return self&value.\n",
      "     |  \n",
      "     |  __contains__(self, key, /)\n",
      "     |      Return key in self.\n",
      "     |  \n",
      "     |  __copy__(...)\n",
      "     |      copy() -> bitarray\n",
      "     |      \n",
      "     |      Return a copy of the bitarray.\n",
      "     |  \n",
      "     |  __deepcopy__(...)\n",
      "     |      copy() -> bitarray\n",
      "     |      \n",
      "     |      Return a copy of the bitarray.\n",
      "     |  \n",
      "     |  __delitem__(self, key, /)\n",
      "     |      Delete self[key].\n",
      "     |  \n",
      "     |  __eq__(self, value, /)\n",
      "     |      Return self==value.\n",
      "     |  \n",
      "     |  __ge__(self, value, /)\n",
      "     |      Return self>=value.\n",
      "     |  \n",
      "     |  __getattribute__(self, name, /)\n",
      "     |      Return getattr(self, name).\n",
      "     |  \n",
      "     |  __getitem__(self, key, /)\n",
      "     |      Return self[key].\n",
      "     |  \n",
      "     |  __gt__(self, value, /)\n",
      "     |      Return self>value.\n",
      "     |  \n",
      "     |  __iadd__(self, value, /)\n",
      "     |      Implement self+=value.\n",
      "     |  \n",
      "     |  __iand__(self, value, /)\n",
      "     |      Return self&=value.\n",
      "     |  \n",
      "     |  __ilshift__(self, value, /)\n",
      "     |      Return self<<=value.\n",
      "     |  \n",
      "     |  __imul__(self, value, /)\n",
      "     |      Implement self*=value.\n",
      "     |  \n",
      "     |  __invert__(self, /)\n",
      "     |      ~self\n",
      "     |  \n",
      "     |  __ior__(self, value, /)\n",
      "     |      Return self|=value.\n",
      "     |  \n",
      "     |  __irshift__(self, value, /)\n",
      "     |      Return self>>=value.\n",
      "     |  \n",
      "     |  __iter__(self, /)\n",
      "     |      Implement iter(self).\n",
      "     |  \n",
      "     |  __ixor__(self, value, /)\n",
      "     |      Return self^=value.\n",
      "     |  \n",
      "     |  __le__(self, value, /)\n",
      "     |      Return self<=value.\n",
      "     |  \n",
      "     |  __len__(self, /)\n",
      "     |      Return len(self).\n",
      "     |  \n",
      "     |  __lshift__(self, value, /)\n",
      "     |      Return self<<value.\n",
      "     |  \n",
      "     |  __lt__(self, value, /)\n",
      "     |      Return self<value.\n",
      "     |  \n",
      "     |  __mul__(self, value, /)\n",
      "     |      Return self*value.\n",
      "     |  \n",
      "     |  __ne__(self, value, /)\n",
      "     |      Return self!=value.\n",
      "     |  \n",
      "     |  __or__(self, value, /)\n",
      "     |      Return self|value.\n",
      "     |  \n",
      "     |  __rand__(self, value, /)\n",
      "     |      Return value&self.\n",
      "     |  \n",
      "     |  __reduce__(...)\n",
      "     |      state information for pickling\n",
      "     |  \n",
      "     |  __repr__(self, /)\n",
      "     |      Return repr(self).\n",
      "     |  \n",
      "     |  __rlshift__(self, value, /)\n",
      "     |      Return value<<self.\n",
      "     |  \n",
      "     |  __rmul__(self, value, /)\n",
      "     |      Return value*self.\n",
      "     |  \n",
      "     |  __ror__(self, value, /)\n",
      "     |      Return value|self.\n",
      "     |  \n",
      "     |  __rrshift__(self, value, /)\n",
      "     |      Return value>>self.\n",
      "     |  \n",
      "     |  __rshift__(self, value, /)\n",
      "     |      Return self>>value.\n",
      "     |  \n",
      "     |  __rxor__(self, value, /)\n",
      "     |      Return value^self.\n",
      "     |  \n",
      "     |  __setitem__(self, key, value, /)\n",
      "     |      Set self[key] to value.\n",
      "     |  \n",
      "     |  __sizeof__(...)\n",
      "     |      Return the size of the bitarray in memory, in bytes.\n",
      "     |  \n",
      "     |  __xor__(self, value, /)\n",
      "     |      Return self^value.\n",
      "     |  \n",
      "     |  all(...)\n",
      "     |      all() -> bool\n",
      "     |      \n",
      "     |      Return True when all bits in the array are True.\n",
      "     |      Note that `a.all()` is faster than `all(a)`.\n",
      "     |  \n",
      "     |  any(...)\n",
      "     |      any() -> bool\n",
      "     |      \n",
      "     |      Return True when any bit in the array is True.\n",
      "     |      Note that `a.any()` is faster than `any(a)`.\n",
      "     |  \n",
      "     |  append(...)\n",
      "     |      append(item, /)\n",
      "     |      \n",
      "     |      Append `item` to the end of the bitarray.\n",
      "     |  \n",
      "     |  buffer_info(...)\n",
      "     |      buffer_info() -> tuple\n",
      "     |      \n",
      "     |      Return a tuple containing:\n",
      "     |      \n",
      "     |      0. memory address of buffer\n",
      "     |      1. buffer size (in bytes)\n",
      "     |      2. bit endianness as a string\n",
      "     |      3. number of unused padding bits\n",
      "     |      4. allocated memory for the buffer (in bytes)\n",
      "     |      5. memory is read-only\n",
      "     |      6. buffer is imported\n",
      "     |      7. number of buffer exports\n",
      "     |  \n",
      "     |  bytereverse(...)\n",
      "     |      bytereverse(start=0, stop=<end of buffer>, /)\n",
      "     |      \n",
      "     |      Reverse the bit order for the bytes in range(start, stop) in-place.\n",
      "     |      The start and stop indices are given in terms of bytes (not bits).\n",
      "     |      By default, all bytes in the buffer are reversed.\n",
      "     |      Note: This method only changes the buffer; it does not change the\n",
      "     |      endianness of the bitarray object.\n",
      "     |  \n",
      "     |  clear(...)\n",
      "     |      clear()\n",
      "     |      \n",
      "     |      Remove all items from the bitarray.\n",
      "     |  \n",
      "     |  copy(...)\n",
      "     |      copy() -> bitarray\n",
      "     |      \n",
      "     |      Return a copy of the bitarray.\n",
      "     |  \n",
      "     |  count(...)\n",
      "     |      count(value=1, start=0, stop=<end of array>, /) -> int\n",
      "     |      \n",
      "     |      Count the number of occurrences of `value` in the bitarray.\n",
      "     |  \n",
      "     |  decode(...)\n",
      "     |      decode(code, /) -> list\n",
      "     |      \n",
      "     |      Given a prefix code (a dict mapping symbols to bitarrays, or `decodetree`\n",
      "     |      object), decode the content of the bitarray and return it as a list of\n",
      "     |      symbols.\n",
      "     |  \n",
      "     |  encode(...)\n",
      "     |      encode(code, iterable, /)\n",
      "     |      \n",
      "     |      Given a prefix code (a dict mapping symbols to bitarrays),\n",
      "     |      iterate over the iterable object with symbols, and extend the bitarray\n",
      "     |      with the corresponding bitarray for each symbol.\n",
      "     |  \n",
      "     |  endian(...)\n",
      "     |      endian() -> str\n",
      "     |      \n",
      "     |      Return the bit endianness of the bitarray as a string (`little` or `big`).\n",
      "     |  \n",
      "     |  extend(...)\n",
      "     |      extend(iterable, /)\n",
      "     |      \n",
      "     |      Append all items from `iterable` to the end of the bitarray.\n",
      "     |      If the iterable is a string, each `0` and `1` are appended as\n",
      "     |      bits (ignoring whitespace and underscore).\n",
      "     |  \n",
      "     |  fill(...)\n",
      "     |      fill() -> int\n",
      "     |      \n",
      "     |      Add zeros to the end of the bitarray, such that the length of the bitarray\n",
      "     |      will be a multiple of 8, and return the number of bits added (0..7).\n",
      "     |  \n",
      "     |  find(...)\n",
      "     |      find(sub_bitarray, start=0, stop=<end of array>, /) -> int\n",
      "     |      \n",
      "     |      Return the lowest index where sub_bitarray is found, such that sub_bitarray\n",
      "     |      is contained within `[start:stop]`.\n",
      "     |      Return -1 when sub_bitarray is not found.\n",
      "     |  \n",
      "     |  frombytes(...)\n",
      "     |      frombytes(bytes, /)\n",
      "     |      \n",
      "     |      Extend bitarray with raw bytes.  That is, each append byte will add eight\n",
      "     |      bits to the bitarray.\n",
      "     |  \n",
      "     |  fromfile(...)\n",
      "     |      fromfile(f, n=-1, /)\n",
      "     |      \n",
      "     |      Extend bitarray with up to n bytes read from the file object f.\n",
      "     |      When n is omitted or negative, reads all data until EOF.\n",
      "     |      When n is provided and positive but exceeds the data available,\n",
      "     |      `EOFError` is raised (but the available data is still read and appended.\n",
      "     |  \n",
      "     |  index(...)\n",
      "     |      index(sub_bitarray, start=0, stop=<end of array>, /) -> int\n",
      "     |      \n",
      "     |      Return the lowest index where sub_bitarray is found, such that sub_bitarray\n",
      "     |      is contained within `[start:stop]`.\n",
      "     |      Raises `ValueError` when the sub_bitarray is not present.\n",
      "     |  \n",
      "     |  insert(...)\n",
      "     |      insert(index, value, /)\n",
      "     |      \n",
      "     |      Insert `value` into the bitarray before `index`.\n",
      "     |  \n",
      "     |  invert(...)\n",
      "     |      invert(index=<all bits>, /)\n",
      "     |      \n",
      "     |      Invert all bits in the array (in-place).\n",
      "     |      When the optional `index` is given, only invert the single bit at index.\n",
      "     |  \n",
      "     |  iterdecode(...)\n",
      "     |      iterdecode(code, /) -> iterator\n",
      "     |      \n",
      "     |      Given a prefix code (a dict mapping symbols to bitarrays, or `decodetree`\n",
      "     |      object), decode the content of the bitarray and return an iterator over\n",
      "     |      the symbols.\n",
      "     |  \n",
      "     |  itersearch(...)\n",
      "     |      itersearch(sub_bitarray, /) -> iterator\n",
      "     |      \n",
      "     |      Searches for the given sub_bitarray in self, and return an iterator over\n",
      "     |      the start positions where bitarray matches self.\n",
      "     |  \n",
      "     |  pack(...)\n",
      "     |      pack(bytes, /)\n",
      "     |      \n",
      "     |      Extend the bitarray from bytes, where each byte corresponds to a single\n",
      "     |      bit.  The byte `b'\\x00'` maps to bit 0 and all other characters map to\n",
      "     |      bit 1.\n",
      "     |      This method, as well as the unpack method, are meant for efficient\n",
      "     |      transfer of data between bitarray objects to other python objects\n",
      "     |      (for example NumPy's ndarray object) which have a different memory view.\n",
      "     |  \n",
      "     |  pop(...)\n",
      "     |      pop(index=-1, /) -> item\n",
      "     |      \n",
      "     |      Return the i-th (default last) element and delete it from the bitarray.\n",
      "     |      Raises `IndexError` if bitarray is empty or index is out of range.\n",
      "     |  \n",
      "     |  remove(...)\n",
      "     |      remove(value, /)\n",
      "     |      \n",
      "     |      Remove the first occurrence of `value` in the bitarray.\n",
      "     |      Raises `ValueError` if item is not present.\n",
      "     |  \n",
      "     |  reverse(...)\n",
      "     |      reverse()\n",
      "     |      \n",
      "     |      Reverse all bits in the array (in-place).\n",
      "     |  \n",
      "     |  search(...)\n",
      "     |      search(sub_bitarray, limit=<none>, /) -> list\n",
      "     |      \n",
      "     |      Searches for the given sub_bitarray in self, and return the list of start\n",
      "     |      positions.\n",
      "     |      The optional argument limits the number of search results to the integer\n",
      "     |      specified.  By default, all search results are returned.\n",
      "     |  \n",
      "     |  setall(...)\n",
      "     |      setall(value, /)\n",
      "     |      \n",
      "     |      Set all elements in the bitarray to `value`.\n",
      "     |      Note that `a.setall(value)` is equivalent to `a[:] = value`.\n",
      "     |  \n",
      "     |  sort(...)\n",
      "     |      sort(reverse=False)\n",
      "     |      \n",
      "     |      Sort the bits in the array (in-place).\n",
      "     |  \n",
      "     |  to01(...)\n",
      "     |      to01() -> str\n",
      "     |      \n",
      "     |      Return a string containing '0's and '1's, representing the bits in the\n",
      "     |      bitarray.\n",
      "     |  \n",
      "     |  tobytes(...)\n",
      "     |      tobytes() -> bytes\n",
      "     |      \n",
      "     |      Return the byte representation of the bitarray.\n",
      "     |  \n",
      "     |  tofile(...)\n",
      "     |      tofile(f, /)\n",
      "     |      \n",
      "     |      Write the byte representation of the bitarray to the file object f.\n",
      "     |  \n",
      "     |  tolist(...)\n",
      "     |      tolist() -> list\n",
      "     |      \n",
      "     |      Return a list with the items (0 or 1) in the bitarray.\n",
      "     |      Note that the list object being created will require 32 or 64 times more\n",
      "     |      memory (depending on the machine architecture) than the bitarray object,\n",
      "     |      which may cause a memory error if the bitarray is very large.\n",
      "     |  \n",
      "     |  unpack(...)\n",
      "     |      unpack(zero=b'\\x00', one=b'\\x01') -> bytes\n",
      "     |      \n",
      "     |      Return bytes containing one character for each bit in the bitarray,\n",
      "     |      using the specified mapping.\n",
      "     |  \n",
      "     |  ----------------------------------------------------------------------\n",
      "     |  Static methods defined here:\n",
      "     |  \n",
      "     |  __new__(*args, **kwargs) from builtins.type\n",
      "     |      Create and return a new object.  See help(type) for accurate signature.\n",
      "     |  \n",
      "     |  ----------------------------------------------------------------------\n",
      "     |  Data and other attributes defined here:\n",
      "     |  \n",
      "     |  __hash__ = None\n",
      "    \n",
      "    class decodetree(builtins.object)\n",
      "     |  decodetree(code, /) -> decodetree\n",
      "     |  \n",
      "     |  Given a prefix code (a dict mapping symbols to bitarrays),\n",
      "     |  create a binary tree object to be passed to `.decode()` or `.iterdecode()`.\n",
      "     |  \n",
      "     |  Methods defined here:\n",
      "     |  \n",
      "     |  __getattribute__(self, name, /)\n",
      "     |      Return getattr(self, name).\n",
      "     |  \n",
      "     |  __sizeof__(...)\n",
      "     |      Size of object in memory, in bytes.\n",
      "     |  \n",
      "     |  nodes(...)\n",
      "     |  \n",
      "     |  todict(...)\n",
      "     |  \n",
      "     |  ----------------------------------------------------------------------\n",
      "     |  Static methods defined here:\n",
      "     |  \n",
      "     |  __new__(*args, **kwargs) from builtins.type\n",
      "     |      Create and return a new object.  See help(type) for accurate signature.\n",
      "     |  \n",
      "     |  ----------------------------------------------------------------------\n",
      "     |  Data and other attributes defined here:\n",
      "     |  \n",
      "     |  __hash__ = None\n",
      "    \n",
      "    class frozenbitarray(bitarray)\n",
      "     |  frozenbitarray(*args, **kwargs)\n",
      "     |  \n",
      "     |  frozenbitarray(initializer=0, /, endian='big', buffer=None) -> frozenbitarray\n",
      "     |  \n",
      "     |  Return a frozenbitarray object, which is initialized the same way a bitarray\n",
      "     |  object is initialized.  A frozenbitarray is immutable and hashable.\n",
      "     |  Its contents cannot be altered after it is created; however, it can be used\n",
      "     |  as a dictionary key.\n",
      "     |  \n",
      "     |  Method resolution order:\n",
      "     |      frozenbitarray\n",
      "     |      bitarray\n",
      "     |      builtins.object\n",
      "     |  \n",
      "     |  Methods defined here:\n",
      "     |  \n",
      "     |  __delitem__(self, *args, **kwargs)\n",
      "     |      # Technically the code below is not necessary, as all these methods will\n",
      "     |      # raise a TypeError on read-only memory.  However, with a different error\n",
      "     |      # message.\n",
      "     |  \n",
      "     |  __hash__(self)\n",
      "     |      Return hash(self).\n",
      "     |  \n",
      "     |  __iadd__ = __delitem__(self, *args, **kwargs)\n",
      "     |  \n",
      "     |  __iand__ = __delitem__(self, *args, **kwargs)\n",
      "     |  \n",
      "     |  __ilshift__ = __delitem__(self, *args, **kwargs)\n",
      "     |  \n",
      "     |  __imul__ = __delitem__(self, *args, **kwargs)\n",
      "     |  \n",
      "     |  __init__(self, *args, **kwargs)\n",
      "     |      Initialize self.  See help(type(self)) for accurate signature.\n",
      "     |  \n",
      "     |  __ior__ = __delitem__(self, *args, **kwargs)\n",
      "     |  \n",
      "     |  __irshift__ = __delitem__(self, *args, **kwargs)\n",
      "     |  \n",
      "     |  __ixor__ = __delitem__(self, *args, **kwargs)\n",
      "     |  \n",
      "     |  __repr__(self)\n",
      "     |      Return repr(self).\n",
      "     |  \n",
      "     |  __setitem__ = __delitem__(self, *args, **kwargs)\n",
      "     |  \n",
      "     |  append = __delitem__(self, *args, **kwargs)\n",
      "     |  \n",
      "     |  bytereverse = __delitem__(self, *args, **kwargs)\n",
      "     |  \n",
      "     |  clear = __delitem__(self, *args, **kwargs)\n",
      "     |  \n",
      "     |  encode = __delitem__(self, *args, **kwargs)\n",
      "     |  \n",
      "     |  extend = __delitem__(self, *args, **kwargs)\n",
      "     |  \n",
      "     |  fill = __delitem__(self, *args, **kwargs)\n",
      "     |  \n",
      "     |  frombytes = __delitem__(self, *args, **kwargs)\n",
      "     |  \n",
      "     |  fromfile = __delitem__(self, *args, **kwargs)\n",
      "     |  \n",
      "     |  insert = __delitem__(self, *args, **kwargs)\n",
      "     |  \n",
      "     |  invert = __delitem__(self, *args, **kwargs)\n",
      "     |  \n",
      "     |  pack = __delitem__(self, *args, **kwargs)\n",
      "     |  \n",
      "     |  pop = __delitem__(self, *args, **kwargs)\n",
      "     |  \n",
      "     |  remove = __delitem__(self, *args, **kwargs)\n",
      "     |  \n",
      "     |  reverse = __delitem__(self, *args, **kwargs)\n",
      "     |  \n",
      "     |  setall = __delitem__(self, *args, **kwargs)\n",
      "     |  \n",
      "     |  sort = __delitem__(self, *args, **kwargs)\n",
      "     |  \n",
      "     |  ----------------------------------------------------------------------\n",
      "     |  Data descriptors defined here:\n",
      "     |  \n",
      "     |  __dict__\n",
      "     |      dictionary for instance variables (if defined)\n",
      "     |  \n",
      "     |  ----------------------------------------------------------------------\n",
      "     |  Methods inherited from bitarray:\n",
      "     |  \n",
      "     |  __add__(self, value, /)\n",
      "     |      Return self+value.\n",
      "     |  \n",
      "     |  __and__(self, value, /)\n",
      "     |      Return self&value.\n",
      "     |  \n",
      "     |  __contains__(self, key, /)\n",
      "     |      Return key in self.\n",
      "     |  \n",
      "     |  __copy__(...)\n",
      "     |      copy() -> bitarray\n",
      "     |      \n",
      "     |      Return a copy of the bitarray.\n",
      "     |  \n",
      "     |  __deepcopy__(...)\n",
      "     |      copy() -> bitarray\n",
      "     |      \n",
      "     |      Return a copy of the bitarray.\n",
      "     |  \n",
      "     |  __eq__(self, value, /)\n",
      "     |      Return self==value.\n",
      "     |  \n",
      "     |  __ge__(self, value, /)\n",
      "     |      Return self>=value.\n",
      "     |  \n",
      "     |  __getattribute__(self, name, /)\n",
      "     |      Return getattr(self, name).\n",
      "     |  \n",
      "     |  __getitem__(self, key, /)\n",
      "     |      Return self[key].\n",
      "     |  \n",
      "     |  __gt__(self, value, /)\n",
      "     |      Return self>value.\n",
      "     |  \n",
      "     |  __invert__(self, /)\n",
      "     |      ~self\n",
      "     |  \n",
      "     |  __iter__(self, /)\n",
      "     |      Implement iter(self).\n",
      "     |  \n",
      "     |  __le__(self, value, /)\n",
      "     |      Return self<=value.\n",
      "     |  \n",
      "     |  __len__(self, /)\n",
      "     |      Return len(self).\n",
      "     |  \n",
      "     |  __lshift__(self, value, /)\n",
      "     |      Return self<<value.\n",
      "     |  \n",
      "     |  __lt__(self, value, /)\n",
      "     |      Return self<value.\n",
      "     |  \n",
      "     |  __mul__(self, value, /)\n",
      "     |      Return self*value.\n",
      "     |  \n",
      "     |  __ne__(self, value, /)\n",
      "     |      Return self!=value.\n",
      "     |  \n",
      "     |  __or__(self, value, /)\n",
      "     |      Return self|value.\n",
      "     |  \n",
      "     |  __rand__(self, value, /)\n",
      "     |      Return value&self.\n",
      "     |  \n",
      "     |  __reduce__(...)\n",
      "     |      state information for pickling\n",
      "     |  \n",
      "     |  __rlshift__(self, value, /)\n",
      "     |      Return value<<self.\n",
      "     |  \n",
      "     |  __rmul__(self, value, /)\n",
      "     |      Return value*self.\n",
      "     |  \n",
      "     |  __ror__(self, value, /)\n",
      "     |      Return value|self.\n",
      "     |  \n",
      "     |  __rrshift__(self, value, /)\n",
      "     |      Return value>>self.\n",
      "     |  \n",
      "     |  __rshift__(self, value, /)\n",
      "     |      Return self>>value.\n",
      "     |  \n",
      "     |  __rxor__(self, value, /)\n",
      "     |      Return value^self.\n",
      "     |  \n",
      "     |  __sizeof__(...)\n",
      "     |      Return the size of the bitarray in memory, in bytes.\n",
      "     |  \n",
      "     |  __xor__(self, value, /)\n",
      "     |      Return self^value.\n",
      "     |  \n",
      "     |  all(...)\n",
      "     |      all() -> bool\n",
      "     |      \n",
      "     |      Return True when all bits in the array are True.\n",
      "     |      Note that `a.all()` is faster than `all(a)`.\n",
      "     |  \n",
      "     |  any(...)\n",
      "     |      any() -> bool\n",
      "     |      \n",
      "     |      Return True when any bit in the array is True.\n",
      "     |      Note that `a.any()` is faster than `any(a)`.\n",
      "     |  \n",
      "     |  buffer_info(...)\n",
      "     |      buffer_info() -> tuple\n",
      "     |      \n",
      "     |      Return a tuple containing:\n",
      "     |      \n",
      "     |      0. memory address of buffer\n",
      "     |      1. buffer size (in bytes)\n",
      "     |      2. bit endianness as a string\n",
      "     |      3. number of unused padding bits\n",
      "     |      4. allocated memory for the buffer (in bytes)\n",
      "     |      5. memory is read-only\n",
      "     |      6. buffer is imported\n",
      "     |      7. number of buffer exports\n",
      "     |  \n",
      "     |  copy(...)\n",
      "     |      copy() -> bitarray\n",
      "     |      \n",
      "     |      Return a copy of the bitarray.\n",
      "     |  \n",
      "     |  count(...)\n",
      "     |      count(value=1, start=0, stop=<end of array>, /) -> int\n",
      "     |      \n",
      "     |      Count the number of occurrences of `value` in the bitarray.\n",
      "     |  \n",
      "     |  decode(...)\n",
      "     |      decode(code, /) -> list\n",
      "     |      \n",
      "     |      Given a prefix code (a dict mapping symbols to bitarrays, or `decodetree`\n",
      "     |      object), decode the content of the bitarray and return it as a list of\n",
      "     |      symbols.\n",
      "     |  \n",
      "     |  endian(...)\n",
      "     |      endian() -> str\n",
      "     |      \n",
      "     |      Return the bit endianness of the bitarray as a string (`little` or `big`).\n",
      "     |  \n",
      "     |  find(...)\n",
      "     |      find(sub_bitarray, start=0, stop=<end of array>, /) -> int\n",
      "     |      \n",
      "     |      Return the lowest index where sub_bitarray is found, such that sub_bitarray\n",
      "     |      is contained within `[start:stop]`.\n",
      "     |      Return -1 when sub_bitarray is not found.\n",
      "     |  \n",
      "     |  index(...)\n",
      "     |      index(sub_bitarray, start=0, stop=<end of array>, /) -> int\n",
      "     |      \n",
      "     |      Return the lowest index where sub_bitarray is found, such that sub_bitarray\n",
      "     |      is contained within `[start:stop]`.\n",
      "     |      Raises `ValueError` when the sub_bitarray is not present.\n",
      "     |  \n",
      "     |  iterdecode(...)\n",
      "     |      iterdecode(code, /) -> iterator\n",
      "     |      \n",
      "     |      Given a prefix code (a dict mapping symbols to bitarrays, or `decodetree`\n",
      "     |      object), decode the content of the bitarray and return an iterator over\n",
      "     |      the symbols.\n",
      "     |  \n",
      "     |  itersearch(...)\n",
      "     |      itersearch(sub_bitarray, /) -> iterator\n",
      "     |      \n",
      "     |      Searches for the given sub_bitarray in self, and return an iterator over\n",
      "     |      the start positions where bitarray matches self.\n",
      "     |  \n",
      "     |  search(...)\n",
      "     |      search(sub_bitarray, limit=<none>, /) -> list\n",
      "     |      \n",
      "     |      Searches for the given sub_bitarray in self, and return the list of start\n",
      "     |      positions.\n",
      "     |      The optional argument limits the number of search results to the integer\n",
      "     |      specified.  By default, all search results are returned.\n",
      "     |  \n",
      "     |  to01(...)\n",
      "     |      to01() -> str\n",
      "     |      \n",
      "     |      Return a string containing '0's and '1's, representing the bits in the\n",
      "     |      bitarray.\n",
      "     |  \n",
      "     |  tobytes(...)\n",
      "     |      tobytes() -> bytes\n",
      "     |      \n",
      "     |      Return the byte representation of the bitarray.\n",
      "     |  \n",
      "     |  tofile(...)\n",
      "     |      tofile(f, /)\n",
      "     |      \n",
      "     |      Write the byte representation of the bitarray to the file object f.\n",
      "     |  \n",
      "     |  tolist(...)\n",
      "     |      tolist() -> list\n",
      "     |      \n",
      "     |      Return a list with the items (0 or 1) in the bitarray.\n",
      "     |      Note that the list object being created will require 32 or 64 times more\n",
      "     |      memory (depending on the machine architecture) than the bitarray object,\n",
      "     |      which may cause a memory error if the bitarray is very large.\n",
      "     |  \n",
      "     |  unpack(...)\n",
      "     |      unpack(zero=b'\\x00', one=b'\\x01') -> bytes\n",
      "     |      \n",
      "     |      Return bytes containing one character for each bit in the bitarray,\n",
      "     |      using the specified mapping.\n",
      "     |  \n",
      "     |  ----------------------------------------------------------------------\n",
      "     |  Static methods inherited from bitarray:\n",
      "     |  \n",
      "     |  __new__(*args, **kwargs) from builtins.type\n",
      "     |      Create and return a new object.  See help(type) for accurate signature.\n",
      "\n",
      "DATA\n",
      "    __all__ = ['bitarray', 'frozenbitarray', 'decodetree', '__version__']\n",
      "\n",
      "VERSION\n",
      "    2.3.4\n",
      "\n",
      "FILE\n",
      "    /usr/local/lib/python3.10/site-packages/bitarray/__init__.py\n",
      "\n",
      "\n"
     ]
    }
   ],
   "source": [
    "help(bitarray)"
   ]
  },
  {
   "cell_type": "code",
   "execution_count": 62,
   "metadata": {},
   "outputs": [
    {
     "data": {
      "text/plain": [
       "'0b10'"
      ]
     },
     "execution_count": 62,
     "metadata": {},
     "output_type": "execute_result"
    }
   ],
   "source": [
    "bin(0b1011 & 0b0110)  # bitwise and"
   ]
  },
  {
   "cell_type": "code",
   "execution_count": 63,
   "metadata": {},
   "outputs": [
    {
     "data": {
      "text/plain": [
       "'0b1111'"
      ]
     },
     "execution_count": 63,
     "metadata": {},
     "output_type": "execute_result"
    }
   ],
   "source": [
    "bin(0b1011 | 0b0110)  # bitwise or"
   ]
  },
  {
   "cell_type": "code",
   "execution_count": 64,
   "metadata": {},
   "outputs": [
    {
     "data": {
      "text/plain": [
       "'0b1101'"
      ]
     },
     "execution_count": 64,
     "metadata": {},
     "output_type": "execute_result"
    }
   ],
   "source": [
    "bin(0b1011 ^ 0b0110)  # bitwise xor"
   ]
  },
  {
   "cell_type": "code",
   "execution_count": 68,
   "metadata": {},
   "outputs": [
    {
     "data": {
      "text/plain": [
       "'-0b1100'"
      ]
     },
     "execution_count": 68,
     "metadata": {},
     "output_type": "execute_result"
    }
   ],
   "source": [
    "bin(~11)"
   ]
  },
  {
   "cell_type": "code",
   "execution_count": 70,
   "metadata": {},
   "outputs": [
    {
     "data": {
      "text/plain": [
       "12345"
      ]
     },
     "execution_count": 70,
     "metadata": {},
     "output_type": "execute_result"
    }
   ],
   "source": [
    "int('0x3039', 16)"
   ]
  },
  {
   "cell_type": "code",
   "execution_count": 71,
   "metadata": {},
   "outputs": [
    {
     "data": {
      "text/plain": [
       "12345"
      ]
     },
     "execution_count": 71,
     "metadata": {},
     "output_type": "execute_result"
    }
   ],
   "source": [
    "eval('0x3039')   # eval evil"
   ]
  },
  {
   "cell_type": "code",
   "execution_count": 72,
   "metadata": {},
   "outputs": [
    {
     "data": {
      "text/plain": [
       "13"
      ]
     },
     "execution_count": 72,
     "metadata": {},
     "output_type": "execute_result"
    }
   ],
   "source": [
    "x = 10\n",
    "y = 3\n",
    "\n",
    "x + y"
   ]
  },
  {
   "cell_type": "code",
   "execution_count": 73,
   "metadata": {},
   "outputs": [
    {
     "data": {
      "text/plain": [
       "7"
      ]
     },
     "execution_count": 73,
     "metadata": {},
     "output_type": "execute_result"
    }
   ],
   "source": [
    "x - y"
   ]
  },
  {
   "cell_type": "code",
   "execution_count": 74,
   "metadata": {},
   "outputs": [
    {
     "data": {
      "text/plain": [
       "30"
      ]
     },
     "execution_count": 74,
     "metadata": {},
     "output_type": "execute_result"
    }
   ],
   "source": [
    "x * y"
   ]
  },
  {
   "cell_type": "code",
   "execution_count": 76,
   "metadata": {},
   "outputs": [
    {
     "data": {
      "text/plain": [
       "3.3333333333333335"
      ]
     },
     "execution_count": 76,
     "metadata": {},
     "output_type": "execute_result"
    }
   ],
   "source": [
    "x / y   # always float   -- truediv"
   ]
  },
  {
   "cell_type": "code",
   "execution_count": 77,
   "metadata": {},
   "outputs": [
    {
     "data": {
      "text/plain": [
       "3"
      ]
     },
     "execution_count": 77,
     "metadata": {},
     "output_type": "execute_result"
    }
   ],
   "source": [
    "x // y   # always int   -- floordiv"
   ]
  },
  {
   "cell_type": "code",
   "execution_count": 78,
   "metadata": {},
   "outputs": [
    {
     "data": {
      "text/plain": [
       "1000"
      ]
     },
     "execution_count": 78,
     "metadata": {},
     "output_type": "execute_result"
    }
   ],
   "source": [
    "x ** y"
   ]
  },
  {
   "cell_type": "code",
   "execution_count": 79,
   "metadata": {},
   "outputs": [
    {
     "data": {
      "text/plain": [
       "1"
      ]
     },
     "execution_count": 79,
     "metadata": {},
     "output_type": "execute_result"
    }
   ],
   "source": [
    "x % y"
   ]
  },
  {
   "cell_type": "code",
   "execution_count": 80,
   "metadata": {},
   "outputs": [
    {
     "data": {
      "text/plain": [
       "int"
      ]
     },
     "execution_count": 80,
     "metadata": {},
     "output_type": "execute_result"
    }
   ],
   "source": [
    "# float\n",
    "\n",
    "x = 10\n",
    "type(x)"
   ]
  },
  {
   "cell_type": "code",
   "execution_count": 81,
   "metadata": {},
   "outputs": [
    {
     "data": {
      "text/plain": [
       "float"
      ]
     },
     "execution_count": 81,
     "metadata": {},
     "output_type": "execute_result"
    }
   ],
   "source": [
    "x = 10.0\n",
    "type(x)"
   ]
  },
  {
   "cell_type": "code",
   "execution_count": 82,
   "metadata": {},
   "outputs": [
    {
     "data": {
      "text/plain": [
       "float"
      ]
     },
     "execution_count": 82,
     "metadata": {},
     "output_type": "execute_result"
    }
   ],
   "source": [
    "x = 10.\n",
    "type(x)"
   ]
  },
  {
   "cell_type": "code",
   "execution_count": 83,
   "metadata": {},
   "outputs": [
    {
     "data": {
      "text/plain": [
       "0.30000000000000004"
      ]
     },
     "execution_count": 83,
     "metadata": {},
     "output_type": "execute_result"
    }
   ],
   "source": [
    "0.1 + 0.2 "
   ]
  },
  {
   "cell_type": "code",
   "execution_count": 84,
   "metadata": {},
   "outputs": [
    {
     "data": {
      "text/plain": [
       "False"
      ]
     },
     "execution_count": 84,
     "metadata": {},
     "output_type": "execute_result"
    }
   ],
   "source": [
    "0.1 + 0.2 == 0.3"
   ]
  },
  {
   "cell_type": "code",
   "execution_count": 85,
   "metadata": {},
   "outputs": [
    {
     "data": {
      "text/plain": [
       "0.3"
      ]
     },
     "execution_count": 85,
     "metadata": {},
     "output_type": "execute_result"
    }
   ],
   "source": [
    "# round -- Python builtin function\n",
    "\n",
    "round(0.1 + 0.2, 2)"
   ]
  },
  {
   "cell_type": "code",
   "execution_count": 86,
   "metadata": {},
   "outputs": [
    {
     "data": {
      "text/plain": [
       "Decimal('0.3')"
      ]
     },
     "execution_count": 86,
     "metadata": {},
     "output_type": "execute_result"
    }
   ],
   "source": [
    "# BCD -- binary coded decimals\n",
    "\n",
    "from decimal import Decimal  \n",
    "x = Decimal('0.1')\n",
    "y = Decimal('0.2')\n",
    "\n",
    "x + y"
   ]
  },
  {
   "cell_type": "code",
   "execution_count": 87,
   "metadata": {},
   "outputs": [
    {
     "data": {
      "text/plain": [
       "0.3"
      ]
     },
     "execution_count": 87,
     "metadata": {},
     "output_type": "execute_result"
    }
   ],
   "source": [
    "float(x+y)"
   ]
  },
  {
   "cell_type": "code",
   "execution_count": 88,
   "metadata": {},
   "outputs": [],
   "source": [
    "# don't use float to define Decimal!\n",
    "x = Decimal(0.1)\n",
    "y = Decimal(0.2)\n"
   ]
  },
  {
   "cell_type": "code",
   "execution_count": 89,
   "metadata": {},
   "outputs": [
    {
     "data": {
      "text/plain": [
       "Decimal('0.1000000000000000055511151231257827021181583404541015625')"
      ]
     },
     "execution_count": 89,
     "metadata": {},
     "output_type": "execute_result"
    }
   ],
   "source": [
    "x"
   ]
  },
  {
   "cell_type": "code",
   "execution_count": 90,
   "metadata": {},
   "outputs": [
    {
     "data": {
      "text/plain": [
       "Decimal('0.200000000000000011102230246251565404236316680908203125')"
      ]
     },
     "execution_count": 90,
     "metadata": {},
     "output_type": "execute_result"
    }
   ],
   "source": [
    "y"
   ]
  },
  {
   "cell_type": "code",
   "execution_count": 91,
   "metadata": {},
   "outputs": [
    {
     "data": {
      "text/plain": [
       "Decimal('0.3000000000000000166533453694')"
      ]
     },
     "execution_count": 91,
     "metadata": {},
     "output_type": "execute_result"
    }
   ],
   "source": [
    "x + y"
   ]
  },
  {
   "cell_type": "code",
   "execution_count": 92,
   "metadata": {},
   "outputs": [
    {
     "data": {
      "text/plain": [
       "(15-5j)"
      ]
     },
     "execution_count": 92,
     "metadata": {},
     "output_type": "execute_result"
    }
   ],
   "source": [
    "# complex numbers!\n",
    "\n",
    "x = 10+3j\n",
    "y = 5-8j\n",
    "\n",
    "x + y"
   ]
  },
  {
   "cell_type": "code",
   "execution_count": 93,
   "metadata": {},
   "outputs": [
    {
     "data": {
      "text/plain": [
       "(74-65j)"
      ]
     },
     "execution_count": 93,
     "metadata": {},
     "output_type": "execute_result"
    }
   ],
   "source": [
    "x * y"
   ]
  },
  {
   "cell_type": "code",
   "execution_count": 94,
   "metadata": {},
   "outputs": [
    {
     "data": {
      "text/plain": [
       "str"
      ]
     },
     "execution_count": 94,
     "metadata": {},
     "output_type": "execute_result"
    }
   ],
   "source": [
    "s = 'abcde'\n",
    "type(s)"
   ]
  },
  {
   "cell_type": "code",
   "execution_count": 96,
   "metadata": {},
   "outputs": [
    {
     "data": {
      "text/plain": [
       "5"
      ]
     },
     "execution_count": 96,
     "metadata": {},
     "output_type": "execute_result"
    }
   ],
   "source": [
    "len(s)"
   ]
  },
  {
   "cell_type": "code",
   "execution_count": 97,
   "metadata": {},
   "outputs": [
    {
     "data": {
      "text/plain": [
       "True"
      ]
     },
     "execution_count": 97,
     "metadata": {},
     "output_type": "execute_result"
    }
   ],
   "source": [
    "x = 'abcde'\n",
    "y = 'abcde'\n",
    "\n",
    "x == y"
   ]
  },
  {
   "cell_type": "code",
   "execution_count": 98,
   "metadata": {},
   "outputs": [
    {
     "data": {
      "text/plain": [
       "True"
      ]
     },
     "execution_count": 98,
     "metadata": {},
     "output_type": "execute_result"
    }
   ],
   "source": [
    "x is y"
   ]
  },
  {
   "cell_type": "code",
   "execution_count": 99,
   "metadata": {},
   "outputs": [
    {
     "data": {
      "text/plain": [
       "True"
      ]
     },
     "execution_count": 99,
     "metadata": {},
     "output_type": "execute_result"
    }
   ],
   "source": [
    "x = 'abcde' * 10_000\n",
    "y = 'abcde' * 10_000\n",
    "\n",
    "x == y"
   ]
  },
  {
   "cell_type": "code",
   "execution_count": 100,
   "metadata": {},
   "outputs": [
    {
     "data": {
      "text/plain": [
       "False"
      ]
     },
     "execution_count": 100,
     "metadata": {},
     "output_type": "execute_result"
    }
   ],
   "source": [
    "x is y"
   ]
  },
  {
   "cell_type": "code",
   "execution_count": 101,
   "metadata": {},
   "outputs": [
    {
     "data": {
      "text/plain": [
       "True"
      ]
     },
     "execution_count": 101,
     "metadata": {},
     "output_type": "execute_result"
    }
   ],
   "source": [
    "x = 'a.b'\n",
    "y = 'a.b'\n",
    "\n",
    "x == y"
   ]
  },
  {
   "cell_type": "code",
   "execution_count": 102,
   "metadata": {},
   "outputs": [
    {
     "data": {
      "text/plain": [
       "False"
      ]
     },
     "execution_count": 102,
     "metadata": {},
     "output_type": "execute_result"
    }
   ],
   "source": [
    "x is y"
   ]
  },
  {
   "cell_type": "code",
   "execution_count": 103,
   "metadata": {},
   "outputs": [],
   "source": [
    "a = 100"
   ]
  },
  {
   "cell_type": "code",
   "execution_count": 104,
   "metadata": {
    "collapsed": true
   },
   "outputs": [
    {
     "data": {
      "text/plain": [
       "{'__name__': '__main__',\n",
       " '__doc__': 'Automatically created module for IPython interactive environment',\n",
       " '__package__': None,\n",
       " '__loader__': None,\n",
       " '__spec__': None,\n",
       " '__builtin__': <module 'builtins' (built-in)>,\n",
       " '__builtins__': <module 'builtins' (built-in)>,\n",
       " '_ih': ['',\n",
       "  '# REPL -- read, eval, print loop',\n",
       "  \"x = 'abcd'\\ny = 'efgh'\\n\\nprint(x + y)\",\n",
       "  'print(x.upper())',\n",
       "  '10 + 10  \\n20 + 20\\n30 + 30  # last line + expression (returns a value)',\n",
       "  'x',\n",
       "  'x.upper()',\n",
       "  \"print('a')\\nprint('b')\\nprint('c')\",\n",
       "  'x = 100\\ny = x\\n\\nx = 200\\ny',\n",
       "  'x = None\\ny = None',\n",
       "  'type(None)',\n",
       "  'z = type(None)()',\n",
       "  'print(z)',\n",
       "  'type(z)',\n",
       "  \"if x == None:\\n    print('yes, it is None!')\",\n",
       "  \"if x == None:  # not Pythonic\\n    print('yes, it is None!')\",\n",
       "  'id(None)',\n",
       "  'id(x)',\n",
       "  'id(y)',\n",
       "  'id(z)',\n",
       "  'id(x) == id(None)',\n",
       "  '# to compare ids, we use \"is\"\\nif x is None:\\n    print(\\'Yes, x is None!\\')',\n",
       "  '# to compare ids, we use \"is\"\\n# \\'x is None\\' == \\'id(x) == id(None)\\'\\n\\nif x is None:\\n    print(\\'Yes, x is None!\\')',\n",
       "  'x = 100\\ny = 100\\n\\nx == y',\n",
       "  'x is y',\n",
       "  'x = 1000\\ny = 1000\\n\\nx == y',\n",
       "  'x is y',\n",
       "  \"x = True\\n\\nif x is True:\\n    print('Yes, it is True!')\",\n",
       "  \"x = False\\n\\nif not x:\\n    print('Yes, it is False!')\",\n",
       "  \"x = 10\\n\\nif x:\\n    print('Yes, it is True!')\",\n",
       "  \"x = 10\\n\\nif x:\\n    print('Yes, it is True-ish!')\",\n",
       "  '10 == True',\n",
       "  'bool(10) == True',\n",
       "  '10 is True',\n",
       "  \"s = 'abcde\",\n",
       "  'x = true',\n",
       "  'mylist = [10, 20, 30]\\n\\nmylist = mylist.append(40)\\n\\nprint(mylist)',\n",
       "  'mylist = [10, 20, 30]\\n\\nmylist.append(40)\\n\\nmylist',\n",
       "  'import sys\\n\\nx = 0\\nsys.getsizeof(x)',\n",
       "  'x = 1\\nsys.getsizeof(x)',\n",
       "  'x = 1_000_000_000\\nsys.getsizeof(x)',\n",
       "  'x = x ** 10000',\n",
       "  'sys.getsizeof(x)',\n",
       "  'x = x ** 1000\\nsys.getsizeof(x)',\n",
       "  'x = x ** 100\\nsys.getsizeof(x)',\n",
       "  'x = x ** 10\\nsys.getsizeof(x)',\n",
       "  'x = 1_2_3_4_5\\nx',\n",
       "  'x = 1_2_3_4_5  # starting with Python 3.7\\nx',\n",
       "  \"int('12345')\",\n",
       "  \"int('12345', 16)\",\n",
       "  \"# 2nd optional argument is the base\\nint('12345', 16)\",\n",
       "  '0x12345',\n",
       "  '0b10101010',\n",
       "  '0O12345',\n",
       "  '0o12345',\n",
       "  'hex(12345)',\n",
       "  'oct(12345)',\n",
       "  'bin(12345)',\n",
       "  'import bitarray',\n",
       "  'help(bitarray)',\n",
       "  '10 & 20  # bitwise and',\n",
       "  '0b1011 & 0b0110  # bitwise and',\n",
       "  'bin(0b1011 & 0b0110)  # bitwise and',\n",
       "  'bin(0b1011 | 0b0110)  # bitwise or',\n",
       "  'bin(0b1011 ^ 0b0110)  # bitwise xor',\n",
       "  'bin(~0b1011)  # bitwise not',\n",
       "  '0b1011',\n",
       "  '~11',\n",
       "  'bin(~11)',\n",
       "  \"int('0x3039')\",\n",
       "  \"int('0x3039', 16)\",\n",
       "  \"eval('0x3039')\",\n",
       "  'x = 10\\ny = 3\\n\\nx + y',\n",
       "  'x - y',\n",
       "  'x * y',\n",
       "  'x / y',\n",
       "  'x / y   # always float ',\n",
       "  'x // y   # always int   -- floordiv',\n",
       "  'x ** y',\n",
       "  'x % y',\n",
       "  '# float\\n\\nx = 10\\ntype(x)',\n",
       "  'x = 10.0\\ntype(x)',\n",
       "  'x = 10.\\ntype(x)',\n",
       "  '0.1 + 0.2 ',\n",
       "  '0.1 + 0.2 == 0.3',\n",
       "  '# round -- Python builtin function\\n\\nround(0.1 + 0.2, 2)',\n",
       "  \"# BCD -- binary coded decimals\\n\\nfrom decimal import Decimal  \\nx = Decimal('0.1')\\ny = Decimal('0.2')\\n\\nx + y\",\n",
       "  'float(x+y)',\n",
       "  \"# don't use float to define Decimal!\\nx = Decimal(0.1)\\ny = Decimal(0.2)\",\n",
       "  'x',\n",
       "  'y',\n",
       "  'x + y',\n",
       "  '# complex numbers!\\n\\nx = 10+3j\\ny = 5-8j\\n\\nx + y',\n",
       "  'x * y',\n",
       "  \"s = 'abcde'\\ntype(s)\",\n",
       "  'len9s',\n",
       "  'len(s)',\n",
       "  \"x = 'abcde'\\ny = 'abcde'\\n\\nx == y\",\n",
       "  'x is y',\n",
       "  \"x = 'abcde' * 10_000\\ny = 'abcde' * 10_000\\n\\nx == y\",\n",
       "  'x is y',\n",
       "  \"x = 'a.b'\\ny = 'a.b'\\n\\nx == y\",\n",
       "  'x is y',\n",
       "  'a = 100',\n",
       "  'globals()'],\n",
       " '_oh': {4: 60,\n",
       "  5: 'abcd',\n",
       "  6: 'ABCD',\n",
       "  8: 100,\n",
       "  10: NoneType,\n",
       "  13: NoneType,\n",
       "  16: 4424744960,\n",
       "  17: 4424744960,\n",
       "  18: 4424744960,\n",
       "  19: 4424744960,\n",
       "  20: True,\n",
       "  23: True,\n",
       "  24: True,\n",
       "  25: True,\n",
       "  26: False,\n",
       "  31: False,\n",
       "  32: True,\n",
       "  33: False,\n",
       "  37: [10, 20, 30, 40],\n",
       "  38: 24,\n",
       "  39: 28,\n",
       "  40: 28,\n",
       "  42: 39888,\n",
       "  45: 398656,\n",
       "  46: 12345,\n",
       "  47: 12345,\n",
       "  48: 12345,\n",
       "  49: 74565,\n",
       "  50: 74565,\n",
       "  51: 74565,\n",
       "  52: 170,\n",
       "  53: 5349,\n",
       "  54: 5349,\n",
       "  55: '0x3039',\n",
       "  56: '0o30071',\n",
       "  57: '0b11000000111001',\n",
       "  60: 0,\n",
       "  61: 2,\n",
       "  62: '0b10',\n",
       "  63: '0b1111',\n",
       "  64: '0b1101',\n",
       "  65: '-0b1100',\n",
       "  66: 11,\n",
       "  67: -12,\n",
       "  68: '-0b1100',\n",
       "  70: 12345,\n",
       "  71: 12345,\n",
       "  72: 13,\n",
       "  73: 7,\n",
       "  74: 30,\n",
       "  75: 3.3333333333333335,\n",
       "  76: 3.3333333333333335,\n",
       "  77: 3,\n",
       "  78: 1000,\n",
       "  79: 1,\n",
       "  80: int,\n",
       "  81: float,\n",
       "  82: float,\n",
       "  83: 0.30000000000000004,\n",
       "  84: False,\n",
       "  85: 0.3,\n",
       "  86: Decimal('0.3'),\n",
       "  87: 0.3,\n",
       "  89: Decimal('0.1000000000000000055511151231257827021181583404541015625'),\n",
       "  90: Decimal('0.200000000000000011102230246251565404236316680908203125'),\n",
       "  91: Decimal('0.3000000000000000166533453694'),\n",
       "  92: (15-5j),\n",
       "  93: (74-65j),\n",
       "  94: str,\n",
       "  96: 5,\n",
       "  97: True,\n",
       "  98: True,\n",
       "  99: True,\n",
       "  100: False,\n",
       "  101: True,\n",
       "  102: False},\n",
       " '_dh': ['/Users/reuven/Courses/Current/dfend-dfend-2022-q1'],\n",
       " 'In': ['',\n",
       "  '# REPL -- read, eval, print loop',\n",
       "  \"x = 'abcd'\\ny = 'efgh'\\n\\nprint(x + y)\",\n",
       "  'print(x.upper())',\n",
       "  '10 + 10  \\n20 + 20\\n30 + 30  # last line + expression (returns a value)',\n",
       "  'x',\n",
       "  'x.upper()',\n",
       "  \"print('a')\\nprint('b')\\nprint('c')\",\n",
       "  'x = 100\\ny = x\\n\\nx = 200\\ny',\n",
       "  'x = None\\ny = None',\n",
       "  'type(None)',\n",
       "  'z = type(None)()',\n",
       "  'print(z)',\n",
       "  'type(z)',\n",
       "  \"if x == None:\\n    print('yes, it is None!')\",\n",
       "  \"if x == None:  # not Pythonic\\n    print('yes, it is None!')\",\n",
       "  'id(None)',\n",
       "  'id(x)',\n",
       "  'id(y)',\n",
       "  'id(z)',\n",
       "  'id(x) == id(None)',\n",
       "  '# to compare ids, we use \"is\"\\nif x is None:\\n    print(\\'Yes, x is None!\\')',\n",
       "  '# to compare ids, we use \"is\"\\n# \\'x is None\\' == \\'id(x) == id(None)\\'\\n\\nif x is None:\\n    print(\\'Yes, x is None!\\')',\n",
       "  'x = 100\\ny = 100\\n\\nx == y',\n",
       "  'x is y',\n",
       "  'x = 1000\\ny = 1000\\n\\nx == y',\n",
       "  'x is y',\n",
       "  \"x = True\\n\\nif x is True:\\n    print('Yes, it is True!')\",\n",
       "  \"x = False\\n\\nif not x:\\n    print('Yes, it is False!')\",\n",
       "  \"x = 10\\n\\nif x:\\n    print('Yes, it is True!')\",\n",
       "  \"x = 10\\n\\nif x:\\n    print('Yes, it is True-ish!')\",\n",
       "  '10 == True',\n",
       "  'bool(10) == True',\n",
       "  '10 is True',\n",
       "  \"s = 'abcde\",\n",
       "  'x = true',\n",
       "  'mylist = [10, 20, 30]\\n\\nmylist = mylist.append(40)\\n\\nprint(mylist)',\n",
       "  'mylist = [10, 20, 30]\\n\\nmylist.append(40)\\n\\nmylist',\n",
       "  'import sys\\n\\nx = 0\\nsys.getsizeof(x)',\n",
       "  'x = 1\\nsys.getsizeof(x)',\n",
       "  'x = 1_000_000_000\\nsys.getsizeof(x)',\n",
       "  'x = x ** 10000',\n",
       "  'sys.getsizeof(x)',\n",
       "  'x = x ** 1000\\nsys.getsizeof(x)',\n",
       "  'x = x ** 100\\nsys.getsizeof(x)',\n",
       "  'x = x ** 10\\nsys.getsizeof(x)',\n",
       "  'x = 1_2_3_4_5\\nx',\n",
       "  'x = 1_2_3_4_5  # starting with Python 3.7\\nx',\n",
       "  \"int('12345')\",\n",
       "  \"int('12345', 16)\",\n",
       "  \"# 2nd optional argument is the base\\nint('12345', 16)\",\n",
       "  '0x12345',\n",
       "  '0b10101010',\n",
       "  '0O12345',\n",
       "  '0o12345',\n",
       "  'hex(12345)',\n",
       "  'oct(12345)',\n",
       "  'bin(12345)',\n",
       "  'import bitarray',\n",
       "  'help(bitarray)',\n",
       "  '10 & 20  # bitwise and',\n",
       "  '0b1011 & 0b0110  # bitwise and',\n",
       "  'bin(0b1011 & 0b0110)  # bitwise and',\n",
       "  'bin(0b1011 | 0b0110)  # bitwise or',\n",
       "  'bin(0b1011 ^ 0b0110)  # bitwise xor',\n",
       "  'bin(~0b1011)  # bitwise not',\n",
       "  '0b1011',\n",
       "  '~11',\n",
       "  'bin(~11)',\n",
       "  \"int('0x3039')\",\n",
       "  \"int('0x3039', 16)\",\n",
       "  \"eval('0x3039')\",\n",
       "  'x = 10\\ny = 3\\n\\nx + y',\n",
       "  'x - y',\n",
       "  'x * y',\n",
       "  'x / y',\n",
       "  'x / y   # always float ',\n",
       "  'x // y   # always int   -- floordiv',\n",
       "  'x ** y',\n",
       "  'x % y',\n",
       "  '# float\\n\\nx = 10\\ntype(x)',\n",
       "  'x = 10.0\\ntype(x)',\n",
       "  'x = 10.\\ntype(x)',\n",
       "  '0.1 + 0.2 ',\n",
       "  '0.1 + 0.2 == 0.3',\n",
       "  '# round -- Python builtin function\\n\\nround(0.1 + 0.2, 2)',\n",
       "  \"# BCD -- binary coded decimals\\n\\nfrom decimal import Decimal  \\nx = Decimal('0.1')\\ny = Decimal('0.2')\\n\\nx + y\",\n",
       "  'float(x+y)',\n",
       "  \"# don't use float to define Decimal!\\nx = Decimal(0.1)\\ny = Decimal(0.2)\",\n",
       "  'x',\n",
       "  'y',\n",
       "  'x + y',\n",
       "  '# complex numbers!\\n\\nx = 10+3j\\ny = 5-8j\\n\\nx + y',\n",
       "  'x * y',\n",
       "  \"s = 'abcde'\\ntype(s)\",\n",
       "  'len9s',\n",
       "  'len(s)',\n",
       "  \"x = 'abcde'\\ny = 'abcde'\\n\\nx == y\",\n",
       "  'x is y',\n",
       "  \"x = 'abcde' * 10_000\\ny = 'abcde' * 10_000\\n\\nx == y\",\n",
       "  'x is y',\n",
       "  \"x = 'a.b'\\ny = 'a.b'\\n\\nx == y\",\n",
       "  'x is y',\n",
       "  'a = 100',\n",
       "  'globals()'],\n",
       " 'Out': {4: 60,\n",
       "  5: 'abcd',\n",
       "  6: 'ABCD',\n",
       "  8: 100,\n",
       "  10: NoneType,\n",
       "  13: NoneType,\n",
       "  16: 4424744960,\n",
       "  17: 4424744960,\n",
       "  18: 4424744960,\n",
       "  19: 4424744960,\n",
       "  20: True,\n",
       "  23: True,\n",
       "  24: True,\n",
       "  25: True,\n",
       "  26: False,\n",
       "  31: False,\n",
       "  32: True,\n",
       "  33: False,\n",
       "  37: [10, 20, 30, 40],\n",
       "  38: 24,\n",
       "  39: 28,\n",
       "  40: 28,\n",
       "  42: 39888,\n",
       "  45: 398656,\n",
       "  46: 12345,\n",
       "  47: 12345,\n",
       "  48: 12345,\n",
       "  49: 74565,\n",
       "  50: 74565,\n",
       "  51: 74565,\n",
       "  52: 170,\n",
       "  53: 5349,\n",
       "  54: 5349,\n",
       "  55: '0x3039',\n",
       "  56: '0o30071',\n",
       "  57: '0b11000000111001',\n",
       "  60: 0,\n",
       "  61: 2,\n",
       "  62: '0b10',\n",
       "  63: '0b1111',\n",
       "  64: '0b1101',\n",
       "  65: '-0b1100',\n",
       "  66: 11,\n",
       "  67: -12,\n",
       "  68: '-0b1100',\n",
       "  70: 12345,\n",
       "  71: 12345,\n",
       "  72: 13,\n",
       "  73: 7,\n",
       "  74: 30,\n",
       "  75: 3.3333333333333335,\n",
       "  76: 3.3333333333333335,\n",
       "  77: 3,\n",
       "  78: 1000,\n",
       "  79: 1,\n",
       "  80: int,\n",
       "  81: float,\n",
       "  82: float,\n",
       "  83: 0.30000000000000004,\n",
       "  84: False,\n",
       "  85: 0.3,\n",
       "  86: Decimal('0.3'),\n",
       "  87: 0.3,\n",
       "  89: Decimal('0.1000000000000000055511151231257827021181583404541015625'),\n",
       "  90: Decimal('0.200000000000000011102230246251565404236316680908203125'),\n",
       "  91: Decimal('0.3000000000000000166533453694'),\n",
       "  92: (15-5j),\n",
       "  93: (74-65j),\n",
       "  94: str,\n",
       "  96: 5,\n",
       "  97: True,\n",
       "  98: True,\n",
       "  99: True,\n",
       "  100: False,\n",
       "  101: True,\n",
       "  102: False},\n",
       " 'get_ipython': <bound method InteractiveShell.get_ipython of <ipykernel.zmqshell.ZMQInteractiveShell object at 0x10a1c0550>>,\n",
       " 'exit': <IPython.core.autocall.ZMQExitAutocall at 0x10a1c18d0>,\n",
       " 'quit': <IPython.core.autocall.ZMQExitAutocall at 0x10a1c18d0>,\n",
       " '_': False,\n",
       " '__': True,\n",
       " '___': False,\n",
       " '_i': 'a = 100',\n",
       " '_ii': 'x is y',\n",
       " '_iii': \"x = 'a.b'\\ny = 'a.b'\\n\\nx == y\",\n",
       " '_i1': '# REPL -- read, eval, print loop',\n",
       " '_i2': \"x = 'abcd'\\ny = 'efgh'\\n\\nprint(x + y)\",\n",
       " 'x': 'a.b',\n",
       " 'y': 'a.b',\n",
       " '_i3': 'print(x.upper())',\n",
       " '_i4': '10 + 10  \\n20 + 20\\n30 + 30  # last line + expression (returns a value)',\n",
       " '_4': 60,\n",
       " '_i5': 'x',\n",
       " '_5': 'abcd',\n",
       " '_i6': 'x.upper()',\n",
       " '_6': 'ABCD',\n",
       " '_i7': \"print('a')\\nprint('b')\\nprint('c')\",\n",
       " '_i8': 'x = 100\\ny = x\\n\\nx = 200\\ny',\n",
       " '_8': 100,\n",
       " '_i9': 'x = None\\ny = None',\n",
       " '_i10': 'type(None)',\n",
       " '_10': NoneType,\n",
       " '_i11': 'z = type(None)()',\n",
       " 'z': None,\n",
       " '_i12': 'print(z)',\n",
       " '_i13': 'type(z)',\n",
       " '_13': NoneType,\n",
       " '_i14': \"if x == None:\\n    print('yes, it is None!')\",\n",
       " '_i15': \"if x == None:  # not Pythonic\\n    print('yes, it is None!')\",\n",
       " '_i16': 'id(None)',\n",
       " '_16': 4424744960,\n",
       " '_i17': 'id(x)',\n",
       " '_17': 4424744960,\n",
       " '_i18': 'id(y)',\n",
       " '_18': 4424744960,\n",
       " '_i19': 'id(z)',\n",
       " '_19': 4424744960,\n",
       " '_i20': 'id(x) == id(None)',\n",
       " '_20': True,\n",
       " '_i21': '# to compare ids, we use \"is\"\\nif x is None:\\n    print(\\'Yes, x is None!\\')',\n",
       " '_i22': '# to compare ids, we use \"is\"\\n# \\'x is None\\' == \\'id(x) == id(None)\\'\\n\\nif x is None:\\n    print(\\'Yes, x is None!\\')',\n",
       " '_i23': 'x = 100\\ny = 100\\n\\nx == y',\n",
       " '_23': True,\n",
       " '_i24': 'x is y',\n",
       " '_24': True,\n",
       " '_i25': 'x = 1000\\ny = 1000\\n\\nx == y',\n",
       " '_25': True,\n",
       " '_i26': 'x is y',\n",
       " '_26': False,\n",
       " '_i27': \"x = True\\n\\nif x is True:\\n    print('Yes, it is True!')\",\n",
       " '_i28': \"x = False\\n\\nif not x:\\n    print('Yes, it is False!')\",\n",
       " '_i29': \"x = 10\\n\\nif x:\\n    print('Yes, it is True!')\",\n",
       " '_i30': \"x = 10\\n\\nif x:\\n    print('Yes, it is True-ish!')\",\n",
       " '_i31': '10 == True',\n",
       " '_31': False,\n",
       " '_i32': 'bool(10) == True',\n",
       " '_32': True,\n",
       " '_i33': '10 is True',\n",
       " '_33': False,\n",
       " '_i34': \"s = 'abcde\",\n",
       " '_i35': 'x = true',\n",
       " '_i36': 'mylist = [10, 20, 30]\\n\\nmylist = mylist.append(40)\\n\\nprint(mylist)',\n",
       " 'mylist': [10, 20, 30, 40],\n",
       " '_i37': 'mylist = [10, 20, 30]\\n\\nmylist.append(40)\\n\\nmylist',\n",
       " '_37': [10, 20, 30, 40],\n",
       " '_i38': 'import sys\\n\\nx = 0\\nsys.getsizeof(x)',\n",
       " 'sys': <module 'sys' (built-in)>,\n",
       " '_38': 24,\n",
       " '_i39': 'x = 1\\nsys.getsizeof(x)',\n",
       " '_39': 28,\n",
       " '_i40': 'x = 1_000_000_000\\nsys.getsizeof(x)',\n",
       " '_40': 28,\n",
       " '_i41': 'x = x ** 10000',\n",
       " '_i42': 'sys.getsizeof(x)',\n",
       " '_42': 39888,\n",
       " '_i43': 'x = x ** 1000\\nsys.getsizeof(x)',\n",
       " '_i44': 'x = x ** 100\\nsys.getsizeof(x)',\n",
       " '_i45': 'x = x ** 10\\nsys.getsizeof(x)',\n",
       " '_45': 398656,\n",
       " '_i46': 'x = 1_2_3_4_5\\nx',\n",
       " '_46': 12345,\n",
       " '_i47': 'x = 1_2_3_4_5  # starting with Python 3.7\\nx',\n",
       " '_47': 12345,\n",
       " '_i48': \"int('12345')\",\n",
       " '_48': 12345,\n",
       " '_i49': \"int('12345', 16)\",\n",
       " '_49': 74565,\n",
       " '_i50': \"# 2nd optional argument is the base\\nint('12345', 16)\",\n",
       " '_50': 74565,\n",
       " '_i51': '0x12345',\n",
       " '_51': 74565,\n",
       " '_i52': '0b10101010',\n",
       " '_52': 170,\n",
       " '_i53': '0O12345',\n",
       " '_53': 5349,\n",
       " '_i54': '0o12345',\n",
       " '_54': 5349,\n",
       " '_i55': 'hex(12345)',\n",
       " '_55': '0x3039',\n",
       " '_i56': 'oct(12345)',\n",
       " '_56': '0o30071',\n",
       " '_i57': 'bin(12345)',\n",
       " '_57': '0b11000000111001',\n",
       " '_i58': 'import bitarray',\n",
       " 'bitarray': <module 'bitarray' from '/usr/local/lib/python3.10/site-packages/bitarray/__init__.py'>,\n",
       " '_i59': 'help(bitarray)',\n",
       " '_i60': '10 & 20  # bitwise and',\n",
       " '_60': 0,\n",
       " '_i61': '0b1011 & 0b0110  # bitwise and',\n",
       " '_61': 2,\n",
       " '_i62': 'bin(0b1011 & 0b0110)  # bitwise and',\n",
       " '_62': '0b10',\n",
       " '_i63': 'bin(0b1011 | 0b0110)  # bitwise or',\n",
       " '_63': '0b1111',\n",
       " '_i64': 'bin(0b1011 ^ 0b0110)  # bitwise xor',\n",
       " '_64': '0b1101',\n",
       " '_i65': 'bin(~0b1011)  # bitwise not',\n",
       " '_65': '-0b1100',\n",
       " '_i66': '0b1011',\n",
       " '_66': 11,\n",
       " '_i67': '~11',\n",
       " '_67': -12,\n",
       " '_i68': 'bin(~11)',\n",
       " '_68': '-0b1100',\n",
       " '_i69': \"int('0x3039')\",\n",
       " '_i70': \"int('0x3039', 16)\",\n",
       " '_70': 12345,\n",
       " '_i71': \"eval('0x3039')\",\n",
       " '_71': 12345,\n",
       " '_i72': 'x = 10\\ny = 3\\n\\nx + y',\n",
       " '_72': 13,\n",
       " '_i73': 'x - y',\n",
       " '_73': 7,\n",
       " '_i74': 'x * y',\n",
       " '_74': 30,\n",
       " '_i75': 'x / y',\n",
       " '_75': 3.3333333333333335,\n",
       " '_i76': 'x / y   # always float ',\n",
       " '_76': 3.3333333333333335,\n",
       " '_i77': 'x // y   # always int   -- floordiv',\n",
       " '_77': 3,\n",
       " '_i78': 'x ** y',\n",
       " '_78': 1000,\n",
       " '_i79': 'x % y',\n",
       " '_79': 1,\n",
       " '_i80': '# float\\n\\nx = 10\\ntype(x)',\n",
       " '_80': int,\n",
       " '_i81': 'x = 10.0\\ntype(x)',\n",
       " '_81': float,\n",
       " '_i82': 'x = 10.\\ntype(x)',\n",
       " '_82': float,\n",
       " '_i83': '0.1 + 0.2 ',\n",
       " '_83': 0.30000000000000004,\n",
       " '_i84': '0.1 + 0.2 == 0.3',\n",
       " '_84': False,\n",
       " '_i85': '# round -- Python builtin function\\n\\nround(0.1 + 0.2, 2)',\n",
       " '_85': 0.3,\n",
       " '_i86': \"# BCD -- binary coded decimals\\n\\nfrom decimal import Decimal  \\nx = Decimal('0.1')\\ny = Decimal('0.2')\\n\\nx + y\",\n",
       " 'Decimal': decimal.Decimal,\n",
       " '_86': Decimal('0.3'),\n",
       " '_i87': 'float(x+y)',\n",
       " '_87': 0.3,\n",
       " '_i88': \"# don't use float to define Decimal!\\nx = Decimal(0.1)\\ny = Decimal(0.2)\",\n",
       " '_i89': 'x',\n",
       " '_89': Decimal('0.1000000000000000055511151231257827021181583404541015625'),\n",
       " '_i90': 'y',\n",
       " '_90': Decimal('0.200000000000000011102230246251565404236316680908203125'),\n",
       " '_i91': 'x + y',\n",
       " '_91': Decimal('0.3000000000000000166533453694'),\n",
       " '_i92': '# complex numbers!\\n\\nx = 10+3j\\ny = 5-8j\\n\\nx + y',\n",
       " '_92': (15-5j),\n",
       " '_i93': 'x * y',\n",
       " '_93': (74-65j),\n",
       " '_i94': \"s = 'abcde'\\ntype(s)\",\n",
       " 's': 'abcde',\n",
       " '_94': str,\n",
       " '_i95': 'len9s',\n",
       " '_i96': 'len(s)',\n",
       " '_96': 5,\n",
       " '_i97': \"x = 'abcde'\\ny = 'abcde'\\n\\nx == y\",\n",
       " '_97': True,\n",
       " '_i98': 'x is y',\n",
       " '_98': True,\n",
       " '_i99': \"x = 'abcde' * 10_000\\ny = 'abcde' * 10_000\\n\\nx == y\",\n",
       " '_99': True,\n",
       " '_i100': 'x is y',\n",
       " '_100': False,\n",
       " '_i101': \"x = 'a.b'\\ny = 'a.b'\\n\\nx == y\",\n",
       " '_101': True,\n",
       " '_i102': 'x is y',\n",
       " '_102': False,\n",
       " '_i103': 'a = 100',\n",
       " 'a': 100,\n",
       " '_i104': 'globals()'}"
      ]
     },
     "execution_count": 104,
     "metadata": {},
     "output_type": "execute_result"
    }
   ],
   "source": [
    "globals()"
   ]
  },
  {
   "cell_type": "code",
   "execution_count": 105,
   "metadata": {},
   "outputs": [
    {
     "data": {
      "text/plain": [
       "100"
      ]
     },
     "execution_count": 105,
     "metadata": {},
     "output_type": "execute_result"
    }
   ],
   "source": [
    "globals()['a']"
   ]
  },
  {
   "cell_type": "code",
   "execution_count": 106,
   "metadata": {},
   "outputs": [],
   "source": [
    "globals()['a'] = 200"
   ]
  },
  {
   "cell_type": "code",
   "execution_count": 107,
   "metadata": {},
   "outputs": [
    {
     "data": {
      "text/plain": [
       "200"
      ]
     },
     "execution_count": 107,
     "metadata": {},
     "output_type": "execute_result"
    }
   ],
   "source": [
    "a"
   ]
  },
  {
   "cell_type": "code",
   "execution_count": null,
   "metadata": {},
   "outputs": [],
   "source": []
  }
 ],
 "metadata": {
  "kernelspec": {
   "display_name": "Python 3 (ipykernel)",
   "language": "python",
   "name": "python3"
  },
  "language_info": {
   "codemirror_mode": {
    "name": "ipython",
    "version": 3
   },
   "file_extension": ".py",
   "mimetype": "text/x-python",
   "name": "python",
   "nbconvert_exporter": "python",
   "pygments_lexer": "ipython3",
   "version": "3.10.1"
  }
 },
 "nbformat": 4,
 "nbformat_minor": 4
}
