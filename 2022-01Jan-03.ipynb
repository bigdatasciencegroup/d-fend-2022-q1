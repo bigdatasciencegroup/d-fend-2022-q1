{
 "cells": [
  {
   "cell_type": "markdown",
   "metadata": {},
   "source": [
    "# Agenda\n",
    "\n",
    "1. Jupyter intro\n",
    "2. Data structures\n",
    "    - Basic data structures -- in depth\n",
    "    - Complex data structures\n",
    "3. Functions\n",
    "    - Parameters\n",
    "    - Scoping\n",
    "    - Function objects\n",
    "    - Inner functions\n",
    "    - Storing functions in data structures\n",
    "4. Functional programming\n",
    "    - Comprehensions (list, set, dict, nested)\n",
    "    - Functions as arguments\n",
    "    - `lambda`, `map`, `filter`, `reduce`\n",
    "5. Modules\n",
    "6. Objects\n",
    "    - Classes\n",
    "    - Methods\n",
    "    - Attributes (ICPO) \n",
    "    - Inheritance\n",
    "    - Methods vs. functions\n",
    "    - Magic methods\n",
    "    - Properties\n",
    "    - Descriptors\n",
    "7. Iterators + generators\n",
    "8. Decorators\n",
    "9. Concurrency (threading + multiprocessing)"
   ]
  },
  {
   "cell_type": "code",
   "execution_count": 1,
   "metadata": {},
   "outputs": [],
   "source": [
    "# REPL -- read, eval, print loop"
   ]
  },
  {
   "cell_type": "code",
   "execution_count": 2,
   "metadata": {},
   "outputs": [
    {
     "name": "stdout",
     "output_type": "stream",
     "text": [
      "abcdefgh\n"
     ]
    }
   ],
   "source": [
    "x = 'abcd'\n",
    "y = 'efgh'\n",
    "\n",
    "print(x + y)"
   ]
  },
  {
   "cell_type": "code",
   "execution_count": null,
   "metadata": {},
   "outputs": [],
   "source": [
    "print"
   ]
  }
 ],
 "metadata": {
  "kernelspec": {
   "display_name": "Python 3 (ipykernel)",
   "language": "python",
   "name": "python3"
  },
  "language_info": {
   "codemirror_mode": {
    "name": "ipython",
    "version": 3
   },
   "file_extension": ".py",
   "mimetype": "text/x-python",
   "name": "python",
   "nbconvert_exporter": "python",
   "pygments_lexer": "ipython3",
   "version": "3.10.1"
  }
 },
 "nbformat": 4,
 "nbformat_minor": 4
}
